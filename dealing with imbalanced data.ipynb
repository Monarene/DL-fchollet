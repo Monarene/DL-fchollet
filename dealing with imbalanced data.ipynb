{
 "cells": [
  {
   "cell_type": "code",
   "execution_count": 1,
   "metadata": {},
   "outputs": [],
   "source": [
    "from imblearn.under_sampling import RandomUnderSampler\n",
    "from imblearn.over_sampling import RandomOverSampler\n",
    "from imblearn.over_sampling import SMOTE\n",
    "import statsmodels.api as sm\n",
    "from mlxtend.classifier import EnsembleVoteClassifier"
   ]
  },
  {
   "cell_type": "code",
   "execution_count": 2,
   "metadata": {},
   "outputs": [],
   "source": [
    "import pandas as pd\n",
    "import numpy as np\n",
    "import matplotlib.pyplot as plt\n",
    "import seaborn as sns\n",
    "from sklearn.datasets import make_classification\n",
    "from sklearn import metrics\n",
    "from sklearn.linear_model import LogisticRegression\n",
    "from sklearn.ensemble import RandomForestClassifier, BaggingClassifier, AdaBoostClassifier, GradientBoostingClassifier\n",
    "from sklearn.model_selection import cross_val_score, train_test_split, StratifiedKFold\n",
    "from sklearn.preprocessing import StandardScaler\n",
    "from sklearn.tree import DecisionTreeClassifier\n",
    "from sklearn.ensemble import ExtraTreesClassifier\n",
    "from xgboost import XGBClassifier\n",
    "from sklearn.model_selection import GridSearchCV, RandomizedSearchCV"
   ]
  },
  {
   "cell_type": "code",
   "execution_count": 55,
   "metadata": {},
   "outputs": [],
   "source": [
    "import xgboost as xgb\n",
    "from sklearn.svm import SVC\n",
    "from sklearn.neighbors import KNeighborsClassifier\n",
    "from sklearn.metrics import r2_score\n",
    "from sklearn.linear_model import LinearRegression\n",
    "from sklearn.preprocessing import PolynomialFeatures\n",
    "from sklearn.pipeline import make_pipeline\n",
    "import statsmodels as sm\n",
    "from sklearn.preprocessing import LabelBinarizer\n",
    "from statsmodels.stats.outliers_influence import variance_inflation_factor"
   ]
  },
  {
   "cell_type": "code",
   "execution_count": 6,
   "metadata": {},
   "outputs": [],
   "source": [
    "#All the data set imports\n",
    "grade_data_2 = pd.read_csv('Grade_Set_2.csv')"
   ]
  },
  {
   "cell_type": "code",
   "execution_count": 13,
   "metadata": {},
   "outputs": [],
   "source": [
    "x,y = make_classification(n_samples=5000,n_features=20,n_classes=2,weights=[0.9,0.1],random_state=2017)"
   ]
  },
  {
   "cell_type": "code",
   "execution_count": 11,
   "metadata": {},
   "outputs": [
    {
     "name": "stdout",
     "output_type": "stream",
     "text": [
      "Positive class  515\n"
     ]
    }
   ],
   "source": [
    "print('Positive class ', y.tolist().count(1))"
   ]
  },
  {
   "cell_type": "code",
   "execution_count": 12,
   "metadata": {},
   "outputs": [
    {
     "name": "stdout",
     "output_type": "stream",
     "text": [
      "Negative class  4485\n"
     ]
    }
   ],
   "source": [
    "print('Negative class ', y.tolist().count(0))"
   ]
  },
  {
   "cell_type": "code",
   "execution_count": 3,
   "metadata": {},
   "outputs": [
    {
     "ename": "NameError",
     "evalue": "name 'x' is not defined",
     "output_type": "error",
     "traceback": [
      "\u001b[1;31m---------------------------------------------------------------------------\u001b[0m",
      "\u001b[1;31mNameError\u001b[0m                                 Traceback (most recent call last)",
      "\u001b[1;32m<ipython-input-3-467ffb5238eb>\u001b[0m in \u001b[0;36m<module>\u001b[1;34m()\u001b[0m\n\u001b[0;32m      3\u001b[0m \u001b[0msme\u001b[0m \u001b[1;33m=\u001b[0m \u001b[0mSMOTE\u001b[0m\u001b[1;33m(\u001b[0m\u001b[1;33m)\u001b[0m\u001b[1;33m\u001b[0m\u001b[0m\n\u001b[0;32m      4\u001b[0m \u001b[1;33m\u001b[0m\u001b[0m\n\u001b[1;32m----> 5\u001b[1;33m \u001b[0mx_rus\u001b[0m \u001b[1;33m,\u001b[0m \u001b[0my_rus\u001b[0m \u001b[1;33m=\u001b[0m \u001b[0mrus\u001b[0m\u001b[1;33m.\u001b[0m\u001b[0mfit_sample\u001b[0m\u001b[1;33m(\u001b[0m\u001b[0mx\u001b[0m\u001b[1;33m,\u001b[0m\u001b[0my\u001b[0m\u001b[1;33m)\u001b[0m\u001b[1;33m\u001b[0m\u001b[0m\n\u001b[0m\u001b[0;32m      6\u001b[0m \u001b[0mx_ros\u001b[0m \u001b[1;33m,\u001b[0m \u001b[0my_ros\u001b[0m \u001b[1;33m=\u001b[0m \u001b[0mros\u001b[0m\u001b[1;33m.\u001b[0m\u001b[0mfit_sample\u001b[0m\u001b[1;33m(\u001b[0m\u001b[0mx\u001b[0m\u001b[1;33m,\u001b[0m\u001b[0my\u001b[0m\u001b[1;33m)\u001b[0m\u001b[1;33m\u001b[0m\u001b[0m\n\u001b[0;32m      7\u001b[0m \u001b[0mx_sme\u001b[0m \u001b[1;33m,\u001b[0m \u001b[0my_sme\u001b[0m \u001b[1;33m=\u001b[0m \u001b[0msme\u001b[0m\u001b[1;33m.\u001b[0m\u001b[0mfit_sample\u001b[0m\u001b[1;33m(\u001b[0m\u001b[0mx\u001b[0m\u001b[1;33m,\u001b[0m\u001b[0my\u001b[0m\u001b[1;33m)\u001b[0m\u001b[1;33m\u001b[0m\u001b[0m\n",
      "\u001b[1;31mNameError\u001b[0m: name 'x' is not defined"
     ]
    }
   ],
   "source": [
    "rus = RandomUnderSampler()\n",
    "ros = RandomOverSampler()\n",
    "sme = SMOTE()\n",
    "\n",
    "x_rus , y_rus = rus.fit_sample(x,y)\n",
    "x_ros , y_ros = ros.fit_sample(x,y)\n",
    "x_sme , y_sme = sme.fit_sample(x,y)\n",
    "\n",
    "#plotting the graph to see the distruibution of x and y, all the oversampling and all the undersampling\n",
    "plt.figure(figsize=(10,6))\n",
    "plt.subplot(2,2,1)\n",
    "plt.scatter(x[y==0,0],x[y==0,1],marker='o',color='blue')\n",
    "plt.scatter(x[y==1,0],x[y==1,1],marker='+',color='red')\n",
    "plt.xlabel('x1')\n",
    "plt.ylabel('x2')\n",
    "plt.title('The original dataset drawing 1=%s,0=%s' %(y.tolist().count(1),y.tolist().count(0)))\n",
    "\n",
    "plt.subplot(2,2,2)\n",
    "plt.scatter(x_rus[y_rus==0,0],x_rus[y_rus==0,1],marker='o',color='blue')\n",
    "plt.scatter(x_rus[y_rus==1,0],x_rus[y_rus==1,1],marker='+',color='red')\n",
    "plt.xlabel('x1')\n",
    "plt.ylabel('x2')\n",
    "plt.title('For Random undersampling 1=%s,0=%s' %(y_rus.tolist().count(1),y_rus.tolist().count(0)))\n",
    "\n",
    "plt.subplot(2,2,3)\n",
    "plt.scatter(x_ros[y_ros==0,0],x_ros[y_ros==0,1],marker='o',color='blue')\n",
    "plt.scatter(x_ros[y_ros==1,0],x_ros[y_ros==1,1],marker='+',color='red')\n",
    "plt.xlabel('x1')\n",
    "plt.ylabel('x2')\n",
    "plt.title('The random oversampling dataset drawing 1=%s,0=%s' %(y_ros.tolist().count(1),y_ros.tolist().count(0)))\n",
    "\n",
    "plt.subplot(2,2,4)\n",
    "plt.scatter(x_sme[y_sme==0,0],x_sme[y_sme==0,1],marker='o',color='blue')\n",
    "plt.scatter(x_sme[y_sme==1,0],x_sme[y_sme==1,1],marker='+',color='red')\n",
    "plt.xlabel('x1')\n",
    "plt.ylabel('x2')\n",
    "plt.title('The SMOTE dataset drawing 1=%s,0=%s' %(y_sme.tolist().count(1),y_sme.tolist().count(0)))\n",
    "\n",
    "plt.tight_layout()\n",
    "plt.show()"
   ]
  },
  {
   "cell_type": "code",
   "execution_count": 41,
   "metadata": {},
   "outputs": [
    {
     "data": {
      "text/plain": [
       "0.9996655518394649"
      ]
     },
     "execution_count": 41,
     "metadata": {},
     "output_type": "execute_result"
    }
   ],
   "source": [
    "metrics.accuracy_score(y_ros, clf_ros.predict(x_ros))"
   ]
  },
  {
   "cell_type": "code",
   "execution_count": 6,
   "metadata": {},
   "outputs": [
    {
     "ename": "NameError",
     "evalue": "name 'x_ros' is not defined",
     "output_type": "error",
     "traceback": [
      "\u001b[1;31m---------------------------------------------------------------------------\u001b[0m",
      "\u001b[1;31mNameError\u001b[0m                                 Traceback (most recent call last)",
      "\u001b[1;32m<ipython-input-6-141d6f26d9d4>\u001b[0m in \u001b[0;36m<module>\u001b[1;34m()\u001b[0m\n\u001b[0;32m      1\u001b[0m \u001b[1;31m#Now to do machine learning on the dataset and using the roc_auc_score has the metric\u001b[0m\u001b[1;33m\u001b[0m\u001b[1;33m\u001b[0m\u001b[0m\n\u001b[0;32m      2\u001b[0m \u001b[0mclassifier\u001b[0m \u001b[1;33m=\u001b[0m \u001b[0mRandomForestClassifier\u001b[0m\u001b[1;33m(\u001b[0m\u001b[1;33m)\u001b[0m\u001b[1;33m\u001b[0m\u001b[0m\n\u001b[1;32m----> 3\u001b[1;33m \u001b[0mclf_ros\u001b[0m \u001b[1;33m=\u001b[0m \u001b[0mclassifier\u001b[0m\u001b[1;33m.\u001b[0m\u001b[0mfit\u001b[0m\u001b[1;33m(\u001b[0m\u001b[0mx_ros\u001b[0m\u001b[1;33m,\u001b[0m\u001b[0my_ros\u001b[0m\u001b[1;33m)\u001b[0m\u001b[1;33m\u001b[0m\u001b[0m\n\u001b[0m\u001b[0;32m      4\u001b[0m \u001b[0mclf_rus\u001b[0m \u001b[1;33m=\u001b[0m \u001b[0mclassifier\u001b[0m\u001b[1;33m.\u001b[0m\u001b[0mfit\u001b[0m\u001b[1;33m(\u001b[0m\u001b[0mx_rus\u001b[0m\u001b[1;33m,\u001b[0m\u001b[0my_rus\u001b[0m\u001b[1;33m)\u001b[0m\u001b[1;33m\u001b[0m\u001b[0m\n\u001b[0;32m      5\u001b[0m \u001b[0mclf_sme\u001b[0m \u001b[1;33m=\u001b[0m \u001b[0mclassifier\u001b[0m\u001b[1;33m.\u001b[0m\u001b[0mfit\u001b[0m\u001b[1;33m(\u001b[0m\u001b[0mx_sme\u001b[0m\u001b[1;33m,\u001b[0m\u001b[0my_sme\u001b[0m\u001b[1;33m)\u001b[0m\u001b[1;33m\u001b[0m\u001b[0m\n",
      "\u001b[1;31mNameError\u001b[0m: name 'x_ros' is not defined"
     ]
    }
   ],
   "source": [
    "#Now to do machine learning on the dataset and using the roc_auc_score has the metric\n",
    "classifier = RandomForestClassifier()\n",
    "clf_ros = classifier.fit(x_ros,y_ros)\n",
    "clf_rus = classifier.fit(x_rus,y_rus)\n",
    "clf_sme = classifier.fit(x_sme,y_sme)\n",
    "print('Accuracy on Random oversampling ', metrics.accuracy_score(y_ros, clf_ros.predict(x_ros)))\n",
    "print('Accuracy on Random undersampling ', metrics.accuracy_score(y_rus, clf_ros.predict(x_rus)))\n",
    "print('Accuracy on SMOTE oversampling ', metrics.accuracy_score(y_sme, clf_ros.predict(x_sme)))\n"
   ]
  },
  {
   "cell_type": "code",
   "execution_count": 6,
   "metadata": {},
   "outputs": [],
   "source": [
    "diabetes = pd.read_csv('pima-indians-diabetes.csv')\n",
    "x = diabetes.iloc[:,:8].values\n",
    "y = diabetes['Class']\n",
    "classifier = RandomForestClassifier()\n",
    "sc_x = StandardScaler()\n",
    "x = sc_x.fit_transform(x)\n",
    "x_train, x_test, y_train, y_test = train_test_split(x,y, random_state = 2017,test_size = 0.2)"
   ]
  },
  {
   "cell_type": "code",
   "execution_count": 4,
   "metadata": {},
   "outputs": [
    {
     "name": "stderr",
     "output_type": "stream",
     "text": [
      "C:\\Users\\Michael\\Anaconda3.2\\lib\\site-packages\\sklearn\\ensemble\\forest.py:248: FutureWarning: The default value of n_estimators will change from 10 in version 0.20 to 100 in 0.22.\n",
      "  \"10 in version 0.20 to 100 in 0.22.\", FutureWarning)\n",
      "C:\\Users\\Michael\\Anaconda3.2\\lib\\site-packages\\sklearn\\ensemble\\forest.py:248: FutureWarning: The default value of n_estimators will change from 10 in version 0.20 to 100 in 0.22.\n",
      "  \"10 in version 0.20 to 100 in 0.22.\", FutureWarning)\n",
      "C:\\Users\\Michael\\Anaconda3.2\\lib\\site-packages\\sklearn\\ensemble\\forest.py:248: FutureWarning: The default value of n_estimators will change from 10 in version 0.20 to 100 in 0.22.\n",
      "  \"10 in version 0.20 to 100 in 0.22.\", FutureWarning)\n",
      "C:\\Users\\Michael\\Anaconda3.2\\lib\\site-packages\\sklearn\\ensemble\\forest.py:248: FutureWarning: The default value of n_estimators will change from 10 in version 0.20 to 100 in 0.22.\n",
      "  \"10 in version 0.20 to 100 in 0.22.\", FutureWarning)\n",
      "C:\\Users\\Michael\\Anaconda3.2\\lib\\site-packages\\sklearn\\ensemble\\forest.py:248: FutureWarning: The default value of n_estimators will change from 10 in version 0.20 to 100 in 0.22.\n",
      "  \"10 in version 0.20 to 100 in 0.22.\", FutureWarning)\n",
      "C:\\Users\\Michael\\Anaconda3.2\\lib\\site-packages\\sklearn\\ensemble\\forest.py:248: FutureWarning: The default value of n_estimators will change from 10 in version 0.20 to 100 in 0.22.\n",
      "  \"10 in version 0.20 to 100 in 0.22.\", FutureWarning)\n",
      "C:\\Users\\Michael\\Anaconda3.2\\lib\\site-packages\\sklearn\\ensemble\\forest.py:248: FutureWarning: The default value of n_estimators will change from 10 in version 0.20 to 100 in 0.22.\n",
      "  \"10 in version 0.20 to 100 in 0.22.\", FutureWarning)\n",
      "C:\\Users\\Michael\\Anaconda3.2\\lib\\site-packages\\sklearn\\ensemble\\forest.py:248: FutureWarning: The default value of n_estimators will change from 10 in version 0.20 to 100 in 0.22.\n",
      "  \"10 in version 0.20 to 100 in 0.22.\", FutureWarning)\n",
      "C:\\Users\\Michael\\Anaconda3.2\\lib\\site-packages\\sklearn\\ensemble\\forest.py:248: FutureWarning: The default value of n_estimators will change from 10 in version 0.20 to 100 in 0.22.\n",
      "  \"10 in version 0.20 to 100 in 0.22.\", FutureWarning)\n",
      "C:\\Users\\Michael\\Anaconda3.2\\lib\\site-packages\\sklearn\\ensemble\\forest.py:248: FutureWarning: The default value of n_estimators will change from 10 in version 0.20 to 100 in 0.22.\n",
      "  \"10 in version 0.20 to 100 in 0.22.\", FutureWarning)\n"
     ]
    }
   ],
   "source": [
    "train_cv_scores = cross_val_score(classifier,x_train,y_train,scoring='accuracy',cv=5)\n",
    "test_cv_scores = cross_val_score(classifier,x_test,y_test,scoring='accuracy',cv=5)"
   ]
  },
  {
   "cell_type": "code",
   "execution_count": 5,
   "metadata": {},
   "outputs": [
    {
     "data": {
      "text/plain": [
       "array([0.74193548, 0.78225806, 0.74590164, 0.75409836, 0.7295082 ])"
      ]
     },
     "execution_count": 5,
     "metadata": {},
     "output_type": "execute_result"
    }
   ],
   "source": [
    "train_cv_scores"
   ]
  },
  {
   "cell_type": "code",
   "execution_count": 6,
   "metadata": {},
   "outputs": [
    {
     "data": {
      "text/plain": [
       "array([0.8125    , 0.70967742, 0.74193548, 0.86666667, 0.86666667])"
      ]
     },
     "execution_count": 6,
     "metadata": {},
     "output_type": "execute_result"
    }
   ],
   "source": [
    "test_cv_scores"
   ]
  },
  {
   "cell_type": "code",
   "execution_count": 7,
   "metadata": {},
   "outputs": [
    {
     "data": {
      "text/plain": [
       "0.7507403490216816"
      ]
     },
     "execution_count": 7,
     "metadata": {},
     "output_type": "execute_result"
    }
   ],
   "source": [
    "train_cv_scores.mean()"
   ]
  },
  {
   "cell_type": "code",
   "execution_count": 8,
   "metadata": {},
   "outputs": [
    {
     "data": {
      "text/plain": [
       "0.799489247311828"
      ]
     },
     "execution_count": 8,
     "metadata": {},
     "output_type": "execute_result"
    }
   ],
   "source": [
    "test_cv_scores.mean()"
   ]
  },
  {
   "cell_type": "code",
   "execution_count": 9,
   "metadata": {},
   "outputs": [
    {
     "name": "stdout",
     "output_type": "stream",
     "text": [
      "\n",
      "Decision Tree classifier, CV mean results 0.6838180856689583\n",
      "Decision tree classifier accuracy on testset 0.7922077922077922\n",
      "\n",
      "Bagging classifier, CV mean results 0.7100475938656795\n",
      "Bagging classifier accuracy on testset 0.8051948051948052\n",
      "\n",
      "Random Forest classifier, CV mean results 0.753939714436806\n",
      "Random Forest classifier accuracy on testset 0.7987012987012987\n"
     ]
    }
   ],
   "source": [
    "kfold = StratifiedKFold(random_state = 2017,n_splits=5)\n",
    "clf_dt = DecisionTreeClassifier(max_depth=1, random_state=2017).fit(x_train,y_train)\n",
    "results = cross_val_score(clf_dt, x_train, y_train, cv=kfold,scoring='accuracy')\n",
    "print('\\nDecision Tree classifier, CV mean results', results.mean())\n",
    "print('Decision tree classifier accuracy on testset', metrics.accuracy_score(y_test,clf_dt.predict(x_test)))\n",
    "\n",
    "bagger = BaggingClassifier(clf_dt,n_estimators=100,random_state=2017).fit(x_train, y_train)\n",
    "results_bagger = cross_val_score(bagger, x_train, y_train, cv=kfold,scoring='accuracy')\n",
    "print('\\nBagging classifier, CV mean results', results_bagger.mean())\n",
    "print('Bagging classifier accuracy on testset', metrics.accuracy_score(y_test,bagger.predict(x_test)))\n",
    "\n",
    "\n",
    "random_guy = RandomForestClassifier(n_estimators=100,random_state=2017).fit(x_train, y_train)\n",
    "results_rf = cross_val_score(random_guy, x_train, y_train, cv=kfold,scoring='accuracy')\n",
    "print('\\nRandom Forest classifier, CV mean results', results_rf.mean())\n",
    "print('Random Forest classifier accuracy on testset', metrics.accuracy_score(y_test,random_guy.predict(x_test)))"
   ]
  },
  {
   "cell_type": "code",
   "execution_count": 10,
   "metadata": {},
   "outputs": [
    {
     "data": {
      "text/plain": [
       "StratifiedKFold(n_splits=5, random_state=2017, shuffle=False)"
      ]
     },
     "execution_count": 10,
     "metadata": {},
     "output_type": "execute_result"
    }
   ],
   "source": [
    "kfold"
   ]
  },
  {
   "cell_type": "code",
   "execution_count": 11,
   "metadata": {},
   "outputs": [
    {
     "data": {
      "image/png": "[encoded data removed]",
      "text/plain": [
       "<Figure size 432x288 with 1 Axes>"
      ]
     },
     "metadata": {},
     "output_type": "display_data"
    }
   ],
   "source": [
    "#visualizing the feature importances\n",
    "feature_importance = random_guy.feature_importances_\n",
    "feature_importance_list = 100*(feature_importance/feature_importance.max())\n",
    "sorted_idx = np.argsort(feature_importance_list)\n",
    "pos = np.arange(len(feature_importance)) + .5\n",
    "plt.subplot(1,2,2)\n",
    "plt.barh(pos, feature_importance_list[sorted_idx],align='center')\n",
    "plt.yticks(pos, diabetes.columns[sorted_idx])\n",
    "plt.xlabel('Percentage importance')\n",
    "plt.ylabel('Columns')\n",
    "plt.show()"
   ]
  },
  {
   "cell_type": "code",
   "execution_count": 12,
   "metadata": {},
   "outputs": [
    {
     "name": "stdout",
     "output_type": "stream",
     "text": [
      "\n",
      "Extra Trees classifier, CV mean results 0.7425171866737176\n",
      "Extra Trees classifier accuracy on testset 0.8181818181818182\n"
     ]
    }
   ],
   "source": [
    "extra_trees = ExtraTreesClassifier(n_estimators=100, random_state = 2017).fit(x_train, y_train)\n",
    "results_extra = cross_val_score(extra_trees, x_train, y_train, cv=kfold)\n",
    "print('\\nExtra Trees classifier, CV mean results', results_extra.mean())\n",
    "print('Extra Trees classifier accuracy on testset', metrics.accuracy_score(y_test,extra_trees.predict(x_test)))"
   ]
  },
  {
   "cell_type": "code",
   "execution_count": 13,
   "metadata": {},
   "outputs": [
    {
     "name": "stdout",
     "output_type": "stream",
     "text": [
      "\n",
      "Decision Tree classifier, CV mean results 0.6838180856689583\n",
      "Decision tree classifier accuracy on testset 0.7922077922077922\n",
      "\n",
      "AdaBoost classifier, CV mean results 0.7523003701745108\n",
      "AdaBoost classifier accuracy on testset 0.7922077922077922\n"
     ]
    }
   ],
   "source": [
    "clf_ada = AdaBoostClassifier(clf_dt,n_estimators=100,learning_rate=0.1,random_state=2017).fit(x_train,y_train)\n",
    "results_ada = cross_val_score(clf_ada, x_train,y_train,scoring='accuracy',cv=kfold)\n",
    "\n",
    "print('\\nDecision Tree classifier, CV mean results', results.mean())\n",
    "print('Decision tree classifier accuracy on testset', metrics.accuracy_score(y_test,clf_dt.predict(x_test)))\n",
    "\n",
    "print('\\nAdaBoost classifier, CV mean results', results_ada.mean())\n",
    "print('AdaBoost classifier accuracy on testset', metrics.accuracy_score(y_test,clf_dt.predict(x_test)))"
   ]
  },
  {
   "cell_type": "code",
   "execution_count": 14,
   "metadata": {},
   "outputs": [],
   "source": [
    "clf_gradient = GradientBoostingClassifier(n_estimators=100,learning_rate=0.1,random_state=2017).fit(x_train, y_train)"
   ]
  },
  {
   "cell_type": "code",
   "execution_count": 32,
   "metadata": {},
   "outputs": [
    {
     "name": "stdout",
     "output_type": "stream",
     "text": [
      "Gradient Boosting Classifier  0.740983606557377\n",
      "Gradient Boosting Classifier,  0.9153094462540716\n",
      "Gradient Boosting Classifier on test data,  0.7922077922077922\n"
     ]
    }
   ],
   "source": [
    "results_gb = cross_val_score(clf_gradient, x_train, y_train,scoring='accuracy',cv=kfold)\n",
    "print('Gradient Boosting Classifier ', results_gb.mean())\n",
    "print('Gradient Boosting Classifier, ', metrics.accuracy_score(y_train, clf_gradient.predict(x_train)))\n",
    "print('Gradient Boosting Classifier on test data, ', metrics.accuracy_score(y_test, clf_gradient.predict(x_test)))"
   ]
  },
  {
   "cell_type": "code",
   "execution_count": 16,
   "metadata": {},
   "outputs": [
    {
     "data": {
      "text/plain": [
       "array([0.72580645, 0.77419355, 0.75409836, 0.73770492, 0.71311475])"
      ]
     },
     "execution_count": 16,
     "metadata": {},
     "output_type": "execute_result"
    }
   ],
   "source": [
    "results_gb"
   ]
  },
  {
   "cell_type": "markdown",
   "metadata": {},
   "source": [
    "## We are going to do a bit of study on XGBoost"
   ]
  },
  {
   "cell_type": "code",
   "execution_count": 17,
   "metadata": {},
   "outputs": [
    {
     "name": "stdout",
     "output_type": "stream",
     "text": [
      "[0]\tvalidation_0-error:0.181818\n",
      "Will train until validation_0-error hasn't improved in 20 rounds.\n",
      "[1]\tvalidation_0-error:0.162338\n",
      "[2]\tvalidation_0-error:0.162338\n",
      "[3]\tvalidation_0-error:0.162338\n",
      "[4]\tvalidation_0-error:0.162338\n",
      "[5]\tvalidation_0-error:0.181818\n",
      "[6]\tvalidation_0-error:0.162338\n",
      "[7]\tvalidation_0-error:0.175325\n",
      "[8]\tvalidation_0-error:0.175325\n",
      "[9]\tvalidation_0-error:0.181818\n",
      "[10]\tvalidation_0-error:0.181818\n",
      "[11]\tvalidation_0-error:0.201299\n",
      "[12]\tvalidation_0-error:0.201299\n",
      "[13]\tvalidation_0-error:0.194805\n",
      "[14]\tvalidation_0-error:0.201299\n",
      "[15]\tvalidation_0-error:0.214286\n",
      "[16]\tvalidation_0-error:0.220779\n",
      "[17]\tvalidation_0-error:0.220779\n",
      "[18]\tvalidation_0-error:0.207792\n",
      "[19]\tvalidation_0-error:0.214286\n",
      "[20]\tvalidation_0-error:0.207792\n",
      "[21]\tvalidation_0-error:0.207792\n",
      "Stopping. Best iteration:\n",
      "[1]\tvalidation_0-error:0.162338\n",
      "\n",
      "XGBoost Classifier 0.739344262295082\n",
      "XGBoost accuracy score on train,  0.762214983713355\n",
      "XGBoost accuracy scroe on test,  0.8376623376623377\n"
     ]
    }
   ],
   "source": [
    "clf_xgb = XGBClassifier(random_state=2017,seed=2017).fit(x_train, y_train,eval_set = [(x_test,y_test)],\n",
    "                                                    early_stopping_rounds=20)\n",
    "results_xgb = cross_val_score(clf_xgb, x_train, y_train, scoring='accuracy',cv=kfold)\n",
    "print('XGBoost Classifier', results_xgb.mean())\n",
    "print('XGBoost accuracy score on train, ', metrics.accuracy_score(y_train, clf_xgb.predict(x_train)))\n",
    "print('XGBoost accuracy scroe on test, ', metrics.accuracy_score(y_test, clf_xgb.predict(x_test)))"
   ]
  },
  {
   "cell_type": "code",
   "execution_count": 23,
   "metadata": {},
   "outputs": [
    {
     "name": "stdout",
     "output_type": "stream",
     "text": [
      "[11:03:55] C:\\Users\\Administrator\\Desktop\\xgboost\\src\\tree\\updater_prune.cc:74: tree pruning end, 1 roots, 14 extra nodes, 0 pruned nodes, max_depth=3\n",
      "[11:03:55] C:\\Users\\Administrator\\Desktop\\xgboost\\src\\tree\\updater_prune.cc:74: tree pruning end, 1 roots, 14 extra nodes, 0 pruned nodes, max_depth=3\n",
      "[11:03:55] C:\\Users\\Administrator\\Desktop\\xgboost\\src\\tree\\updater_prune.cc:74: tree pruning end, 1 roots, 14 extra nodes, 0 pruned nodes, max_depth=3\n",
      "[11:03:55] C:\\Users\\Administrator\\Desktop\\xgboost\\src\\tree\\updater_prune.cc:74: tree pruning end, 1 roots, 14 extra nodes, 0 pruned nodes, max_depth=3\n",
      "[11:03:55] C:\\Users\\Administrator\\Desktop\\xgboost\\src\\tree\\updater_prune.cc:74: tree pruning end, 1 roots, 14 extra nodes, 0 pruned nodes, max_depth=3\n",
      "[11:03:55] C:\\Users\\Administrator\\Desktop\\xgboost\\src\\tree\\updater_prune.cc:74: tree pruning end, 1 roots, 14 extra nodes, 0 pruned nodes, max_depth=3\n",
      "[11:03:55] C:\\Users\\Administrator\\Desktop\\xgboost\\src\\tree\\updater_prune.cc:74: tree pruning end, 1 roots, 14 extra nodes, 0 pruned nodes, max_depth=3\n",
      "[11:03:55] C:\\Users\\Administrator\\Desktop\\xgboost\\src\\tree\\updater_prune.cc:74: tree pruning end, 1 roots, 14 extra nodes, 0 pruned nodes, max_depth=3\n",
      "[11:03:55] C:\\Users\\Administrator\\Desktop\\xgboost\\src\\tree\\updater_prune.cc:74: tree pruning end, 1 roots, 12 extra nodes, 0 pruned nodes, max_depth=3\n",
      "[11:03:55] C:\\Users\\Administrator\\Desktop\\xgboost\\src\\tree\\updater_prune.cc:74: tree pruning end, 1 roots, 14 extra nodes, 0 pruned nodes, max_depth=3\n",
      "[11:03:55] C:\\Users\\Administrator\\Desktop\\xgboost\\src\\tree\\updater_prune.cc:74: tree pruning end, 1 roots, 14 extra nodes, 0 pruned nodes, max_depth=3\n",
      "[11:03:55] C:\\Users\\Administrator\\Desktop\\xgboost\\src\\tree\\updater_prune.cc:74: tree pruning end, 1 roots, 14 extra nodes, 0 pruned nodes, max_depth=3\n",
      "[11:03:55] C:\\Users\\Administrator\\Desktop\\xgboost\\src\\tree\\updater_prune.cc:74: tree pruning end, 1 roots, 12 extra nodes, 0 pruned nodes, max_depth=3\n",
      "[11:03:55] C:\\Users\\Administrator\\Desktop\\xgboost\\src\\tree\\updater_prune.cc:74: tree pruning end, 1 roots, 14 extra nodes, 0 pruned nodes, max_depth=3\n",
      "[11:03:55] C:\\Users\\Administrator\\Desktop\\xgboost\\src\\tree\\updater_prune.cc:74: tree pruning end, 1 roots, 14 extra nodes, 0 pruned nodes, max_depth=3\n",
      "[11:03:55] C:\\Users\\Administrator\\Desktop\\xgboost\\src\\tree\\updater_prune.cc:74: tree pruning end, 1 roots, 14 extra nodes, 0 pruned nodes, max_depth=3\n",
      "[11:03:55] C:\\Users\\Administrator\\Desktop\\xgboost\\src\\tree\\updater_prune.cc:74: tree pruning end, 1 roots, 14 extra nodes, 0 pruned nodes, max_depth=3\n",
      "[11:03:55] C:\\Users\\Administrator\\Desktop\\xgboost\\src\\tree\\updater_prune.cc:74: tree pruning end, 1 roots, 14 extra nodes, 0 pruned nodes, max_depth=3\n",
      "[11:03:55] C:\\Users\\Administrator\\Desktop\\xgboost\\src\\tree\\updater_prune.cc:74: tree pruning end, 1 roots, 14 extra nodes, 0 pruned nodes, max_depth=3\n",
      "[11:03:55] C:\\Users\\Administrator\\Desktop\\xgboost\\src\\tree\\updater_prune.cc:74: tree pruning end, 1 roots, 14 extra nodes, 0 pruned nodes, max_depth=3\n",
      "[11:03:55] C:\\Users\\Administrator\\Desktop\\xgboost\\src\\tree\\updater_prune.cc:74: tree pruning end, 1 roots, 14 extra nodes, 0 pruned nodes, max_depth=3\n",
      "[11:03:55] C:\\Users\\Administrator\\Desktop\\xgboost\\src\\tree\\updater_prune.cc:74: tree pruning end, 1 roots, 14 extra nodes, 0 pruned nodes, max_depth=3\n",
      "[11:03:55] C:\\Users\\Administrator\\Desktop\\xgboost\\src\\tree\\updater_prune.cc:74: tree pruning end, 1 roots, 12 extra nodes, 0 pruned nodes, max_depth=3\n",
      "[11:03:55] C:\\Users\\Administrator\\Desktop\\xgboost\\src\\tree\\updater_prune.cc:74: tree pruning end, 1 roots, 14 extra nodes, 0 pruned nodes, max_depth=3\n",
      "[11:03:55] C:\\Users\\Administrator\\Desktop\\xgboost\\src\\tree\\updater_prune.cc:74: tree pruning end, 1 roots, 14 extra nodes, 0 pruned nodes, max_depth=3\n",
      "[11:03:55] C:\\Users\\Administrator\\Desktop\\xgboost\\src\\tree\\updater_prune.cc:74: tree pruning end, 1 roots, 12 extra nodes, 0 pruned nodes, max_depth=3\n",
      "[11:03:55] C:\\Users\\Administrator\\Desktop\\xgboost\\src\\tree\\updater_prune.cc:74: tree pruning end, 1 roots, 14 extra nodes, 0 pruned nodes, max_depth=3\n",
      "[11:03:55] C:\\Users\\Administrator\\Desktop\\xgboost\\src\\tree\\updater_prune.cc:74: tree pruning end, 1 roots, 14 extra nodes, 0 pruned nodes, max_depth=3\n",
      "[11:03:55] C:\\Users\\Administrator\\Desktop\\xgboost\\src\\tree\\updater_prune.cc:74: tree pruning end, 1 roots, 14 extra nodes, 0 pruned nodes, max_depth=3\n",
      "[11:03:55] C:\\Users\\Administrator\\Desktop\\xgboost\\src\\tree\\updater_prune.cc:74: tree pruning end, 1 roots, 14 extra nodes, 0 pruned nodes, max_depth=3\n",
      "[11:03:55] C:\\Users\\Administrator\\Desktop\\xgboost\\src\\tree\\updater_prune.cc:74: tree pruning end, 1 roots, 12 extra nodes, 0 pruned nodes, max_depth=3\n",
      "[11:03:55] C:\\Users\\Administrator\\Desktop\\xgboost\\src\\tree\\updater_prune.cc:74: tree pruning end, 1 roots, 14 extra nodes, 0 pruned nodes, max_depth=3\n",
      "[11:03:55] C:\\Users\\Administrator\\Desktop\\xgboost\\src\\tree\\updater_prune.cc:74: tree pruning end, 1 roots, 14 extra nodes, 0 pruned nodes, max_depth=3\n",
      "[11:03:55] C:\\Users\\Administrator\\Desktop\\xgboost\\src\\tree\\updater_prune.cc:74: tree pruning end, 1 roots, 14 extra nodes, 0 pruned nodes, max_depth=3\n",
      "[11:03:55] C:\\Users\\Administrator\\Desktop\\xgboost\\src\\tree\\updater_prune.cc:74: tree pruning end, 1 roots, 14 extra nodes, 0 pruned nodes, max_depth=3\n",
      "[11:03:55] C:\\Users\\Administrator\\Desktop\\xgboost\\src\\tree\\updater_prune.cc:74: tree pruning end, 1 roots, 14 extra nodes, 0 pruned nodes, max_depth=3\n",
      "[11:03:55] C:\\Users\\Administrator\\Desktop\\xgboost\\src\\tree\\updater_prune.cc:74: tree pruning end, 1 roots, 14 extra nodes, 0 pruned nodes, max_depth=3\n",
      "[11:03:55] C:\\Users\\Administrator\\Desktop\\xgboost\\src\\tree\\updater_prune.cc:74: tree pruning end, 1 roots, 14 extra nodes, 0 pruned nodes, max_depth=3\n",
      "[11:03:55] C:\\Users\\Administrator\\Desktop\\xgboost\\src\\tree\\updater_prune.cc:74: tree pruning end, 1 roots, 14 extra nodes, 0 pruned nodes, max_depth=3\n",
      "[11:03:55] C:\\Users\\Administrator\\Desktop\\xgboost\\src\\tree\\updater_prune.cc:74: tree pruning end, 1 roots, 14 extra nodes, 0 pruned nodes, max_depth=3\n",
      "[11:03:55] C:\\Users\\Administrator\\Desktop\\xgboost\\src\\tree\\updater_prune.cc:74: tree pruning end, 1 roots, 14 extra nodes, 0 pruned nodes, max_depth=3\n",
      "[11:03:55] C:\\Users\\Administrator\\Desktop\\xgboost\\src\\tree\\updater_prune.cc:74: tree pruning end, 1 roots, 14 extra nodes, 0 pruned nodes, max_depth=3\n",
      "[11:03:55] C:\\Users\\Administrator\\Desktop\\xgboost\\src\\tree\\updater_prune.cc:74: tree pruning end, 1 roots, 12 extra nodes, 0 pruned nodes, max_depth=3\n",
      "[11:03:55] C:\\Users\\Administrator\\Desktop\\xgboost\\src\\tree\\updater_prune.cc:74: tree pruning end, 1 roots, 14 extra nodes, 0 pruned nodes, max_depth=3\n",
      "[11:03:55] C:\\Users\\Administrator\\Desktop\\xgboost\\src\\tree\\updater_prune.cc:74: tree pruning end, 1 roots, 12 extra nodes, 0 pruned nodes, max_depth=3\n",
      "[11:03:55] C:\\Users\\Administrator\\Desktop\\xgboost\\src\\tree\\updater_prune.cc:74: tree pruning end, 1 roots, 12 extra nodes, 0 pruned nodes, max_depth=3\n",
      "[11:03:55] C:\\Users\\Administrator\\Desktop\\xgboost\\src\\tree\\updater_prune.cc:74: tree pruning end, 1 roots, 14 extra nodes, 0 pruned nodes, max_depth=3\n",
      "[11:03:55] C:\\Users\\Administrator\\Desktop\\xgboost\\src\\tree\\updater_prune.cc:74: tree pruning end, 1 roots, 14 extra nodes, 0 pruned nodes, max_depth=3\n",
      "[11:03:55] C:\\Users\\Administrator\\Desktop\\xgboost\\src\\tree\\updater_prune.cc:74: tree pruning end, 1 roots, 14 extra nodes, 0 pruned nodes, max_depth=3\n",
      "[11:03:55] C:\\Users\\Administrator\\Desktop\\xgboost\\src\\tree\\updater_prune.cc:74: tree pruning end, 1 roots, 14 extra nodes, 0 pruned nodes, max_depth=3\n",
      "[11:03:55] C:\\Users\\Administrator\\Desktop\\xgboost\\src\\tree\\updater_prune.cc:74: tree pruning end, 1 roots, 14 extra nodes, 0 pruned nodes, max_depth=3\n",
      "[11:03:55] C:\\Users\\Administrator\\Desktop\\xgboost\\src\\tree\\updater_prune.cc:74: tree pruning end, 1 roots, 14 extra nodes, 0 pruned nodes, max_depth=3\n",
      "[11:03:55] C:\\Users\\Administrator\\Desktop\\xgboost\\src\\tree\\updater_prune.cc:74: tree pruning end, 1 roots, 12 extra nodes, 0 pruned nodes, max_depth=3\n",
      "[11:03:55] C:\\Users\\Administrator\\Desktop\\xgboost\\src\\tree\\updater_prune.cc:74: tree pruning end, 1 roots, 12 extra nodes, 0 pruned nodes, max_depth=3\n",
      "[11:03:55] C:\\Users\\Administrator\\Desktop\\xgboost\\src\\tree\\updater_prune.cc:74: tree pruning end, 1 roots, 12 extra nodes, 0 pruned nodes, max_depth=3\n",
      "[11:03:55] C:\\Users\\Administrator\\Desktop\\xgboost\\src\\tree\\updater_prune.cc:74: tree pruning end, 1 roots, 14 extra nodes, 0 pruned nodes, max_depth=3\n",
      "[11:03:55] C:\\Users\\Administrator\\Desktop\\xgboost\\src\\tree\\updater_prune.cc:74: tree pruning end, 1 roots, 14 extra nodes, 0 pruned nodes, max_depth=3\n",
      "[11:03:55] C:\\Users\\Administrator\\Desktop\\xgboost\\src\\tree\\updater_prune.cc:74: tree pruning end, 1 roots, 14 extra nodes, 0 pruned nodes, max_depth=3\n",
      "[11:03:55] C:\\Users\\Administrator\\Desktop\\xgboost\\src\\tree\\updater_prune.cc:74: tree pruning end, 1 roots, 14 extra nodes, 0 pruned nodes, max_depth=3\n",
      "[11:03:55] C:\\Users\\Administrator\\Desktop\\xgboost\\src\\tree\\updater_prune.cc:74: tree pruning end, 1 roots, 12 extra nodes, 0 pruned nodes, max_depth=3\n",
      "[11:03:55] C:\\Users\\Administrator\\Desktop\\xgboost\\src\\tree\\updater_prune.cc:74: tree pruning end, 1 roots, 12 extra nodes, 0 pruned nodes, max_depth=3\n",
      "[11:03:55] C:\\Users\\Administrator\\Desktop\\xgboost\\src\\tree\\updater_prune.cc:74: tree pruning end, 1 roots, 14 extra nodes, 0 pruned nodes, max_depth=3\n",
      "[11:03:55] C:\\Users\\Administrator\\Desktop\\xgboost\\src\\tree\\updater_prune.cc:74: tree pruning end, 1 roots, 14 extra nodes, 0 pruned nodes, max_depth=3\n",
      "[11:03:55] C:\\Users\\Administrator\\Desktop\\xgboost\\src\\tree\\updater_prune.cc:74: tree pruning end, 1 roots, 14 extra nodes, 0 pruned nodes, max_depth=3\n",
      "[11:03:55] C:\\Users\\Administrator\\Desktop\\xgboost\\src\\tree\\updater_prune.cc:74: tree pruning end, 1 roots, 14 extra nodes, 0 pruned nodes, max_depth=3\n",
      "[11:03:55] C:\\Users\\Administrator\\Desktop\\xgboost\\src\\tree\\updater_prune.cc:74: tree pruning end, 1 roots, 14 extra nodes, 0 pruned nodes, max_depth=3\n",
      "[11:03:55] C:\\Users\\Administrator\\Desktop\\xgboost\\src\\tree\\updater_prune.cc:74: tree pruning end, 1 roots, 14 extra nodes, 0 pruned nodes, max_depth=3\n",
      "[11:03:55] C:\\Users\\Administrator\\Desktop\\xgboost\\src\\tree\\updater_prune.cc:74: tree pruning end, 1 roots, 14 extra nodes, 0 pruned nodes, max_depth=3\n",
      "[11:03:55] C:\\Users\\Administrator\\Desktop\\xgboost\\src\\tree\\updater_prune.cc:74: tree pruning end, 1 roots, 12 extra nodes, 0 pruned nodes, max_depth=3\n",
      "[11:03:55] C:\\Users\\Administrator\\Desktop\\xgboost\\src\\tree\\updater_prune.cc:74: tree pruning end, 1 roots, 12 extra nodes, 0 pruned nodes, max_depth=3\n",
      "[11:03:55] C:\\Users\\Administrator\\Desktop\\xgboost\\src\\tree\\updater_prune.cc:74: tree pruning end, 1 roots, 14 extra nodes, 0 pruned nodes, max_depth=3\n",
      "[11:03:55] C:\\Users\\Administrator\\Desktop\\xgboost\\src\\tree\\updater_prune.cc:74: tree pruning end, 1 roots, 14 extra nodes, 0 pruned nodes, max_depth=3\n",
      "[11:03:55] C:\\Users\\Administrator\\Desktop\\xgboost\\src\\tree\\updater_prune.cc:74: tree pruning end, 1 roots, 14 extra nodes, 0 pruned nodes, max_depth=3\n",
      "[11:03:55] C:\\Users\\Administrator\\Desktop\\xgboost\\src\\tree\\updater_prune.cc:74: tree pruning end, 1 roots, 12 extra nodes, 0 pruned nodes, max_depth=3\n",
      "[11:03:55] C:\\Users\\Administrator\\Desktop\\xgboost\\src\\tree\\updater_prune.cc:74: tree pruning end, 1 roots, 14 extra nodes, 0 pruned nodes, max_depth=3\n",
      "[11:03:55] C:\\Users\\Administrator\\Desktop\\xgboost\\src\\tree\\updater_prune.cc:74: tree pruning end, 1 roots, 12 extra nodes, 0 pruned nodes, max_depth=3\n",
      "[11:03:55] C:\\Users\\Administrator\\Desktop\\xgboost\\src\\tree\\updater_prune.cc:74: tree pruning end, 1 roots, 14 extra nodes, 0 pruned nodes, max_depth=3\n",
      "[11:03:55] C:\\Users\\Administrator\\Desktop\\xgboost\\src\\tree\\updater_prune.cc:74: tree pruning end, 1 roots, 14 extra nodes, 0 pruned nodes, max_depth=3\n",
      "[11:03:55] C:\\Users\\Administrator\\Desktop\\xgboost\\src\\tree\\updater_prune.cc:74: tree pruning end, 1 roots, 14 extra nodes, 0 pruned nodes, max_depth=3\n",
      "[11:03:55] C:\\Users\\Administrator\\Desktop\\xgboost\\src\\tree\\updater_prune.cc:74: tree pruning end, 1 roots, 12 extra nodes, 0 pruned nodes, max_depth=3\n",
      "[11:03:55] C:\\Users\\Administrator\\Desktop\\xgboost\\src\\tree\\updater_prune.cc:74: tree pruning end, 1 roots, 14 extra nodes, 0 pruned nodes, max_depth=3\n",
      "[11:03:55] C:\\Users\\Administrator\\Desktop\\xgboost\\src\\tree\\updater_prune.cc:74: tree pruning end, 1 roots, 12 extra nodes, 0 pruned nodes, max_depth=3\n",
      "[11:03:55] C:\\Users\\Administrator\\Desktop\\xgboost\\src\\tree\\updater_prune.cc:74: tree pruning end, 1 roots, 14 extra nodes, 0 pruned nodes, max_depth=3\n"
     ]
    },
    {
     "name": "stdout",
     "output_type": "stream",
     "text": [
      "[11:03:55] C:\\Users\\Administrator\\Desktop\\xgboost\\src\\tree\\updater_prune.cc:74: tree pruning end, 1 roots, 12 extra nodes, 0 pruned nodes, max_depth=3\n",
      "[11:03:55] C:\\Users\\Administrator\\Desktop\\xgboost\\src\\tree\\updater_prune.cc:74: tree pruning end, 1 roots, 14 extra nodes, 0 pruned nodes, max_depth=3\n",
      "[11:03:55] C:\\Users\\Administrator\\Desktop\\xgboost\\src\\tree\\updater_prune.cc:74: tree pruning end, 1 roots, 12 extra nodes, 0 pruned nodes, max_depth=3\n",
      "[11:03:55] C:\\Users\\Administrator\\Desktop\\xgboost\\src\\tree\\updater_prune.cc:74: tree pruning end, 1 roots, 12 extra nodes, 0 pruned nodes, max_depth=3\n",
      "[11:03:55] C:\\Users\\Administrator\\Desktop\\xgboost\\src\\tree\\updater_prune.cc:74: tree pruning end, 1 roots, 14 extra nodes, 0 pruned nodes, max_depth=3\n",
      "[11:03:55] C:\\Users\\Administrator\\Desktop\\xgboost\\src\\tree\\updater_prune.cc:74: tree pruning end, 1 roots, 14 extra nodes, 0 pruned nodes, max_depth=3\n",
      "[11:03:55] C:\\Users\\Administrator\\Desktop\\xgboost\\src\\tree\\updater_prune.cc:74: tree pruning end, 1 roots, 14 extra nodes, 0 pruned nodes, max_depth=3\n",
      "[11:03:55] C:\\Users\\Administrator\\Desktop\\xgboost\\src\\tree\\updater_prune.cc:74: tree pruning end, 1 roots, 12 extra nodes, 0 pruned nodes, max_depth=3\n",
      "[11:03:55] C:\\Users\\Administrator\\Desktop\\xgboost\\src\\tree\\updater_prune.cc:74: tree pruning end, 1 roots, 14 extra nodes, 0 pruned nodes, max_depth=3\n",
      "[11:03:55] C:\\Users\\Administrator\\Desktop\\xgboost\\src\\tree\\updater_prune.cc:74: tree pruning end, 1 roots, 14 extra nodes, 0 pruned nodes, max_depth=3\n",
      "[11:03:55] C:\\Users\\Administrator\\Desktop\\xgboost\\src\\tree\\updater_prune.cc:74: tree pruning end, 1 roots, 14 extra nodes, 0 pruned nodes, max_depth=3\n",
      "[11:03:55] C:\\Users\\Administrator\\Desktop\\xgboost\\src\\tree\\updater_prune.cc:74: tree pruning end, 1 roots, 14 extra nodes, 0 pruned nodes, max_depth=3\n",
      "[11:03:55] C:\\Users\\Administrator\\Desktop\\xgboost\\src\\tree\\updater_prune.cc:74: tree pruning end, 1 roots, 12 extra nodes, 0 pruned nodes, max_depth=3\n",
      "[11:03:55] C:\\Users\\Administrator\\Desktop\\xgboost\\src\\tree\\updater_prune.cc:74: tree pruning end, 1 roots, 14 extra nodes, 0 pruned nodes, max_depth=3\n",
      "[11:03:55] C:\\Users\\Administrator\\Desktop\\xgboost\\src\\tree\\updater_prune.cc:74: tree pruning end, 1 roots, 14 extra nodes, 0 pruned nodes, max_depth=3\n",
      "[11:03:55] C:\\Users\\Administrator\\Desktop\\xgboost\\src\\tree\\updater_prune.cc:74: tree pruning end, 1 roots, 12 extra nodes, 0 pruned nodes, max_depth=3\n",
      "[11:03:55] C:\\Users\\Administrator\\Desktop\\xgboost\\src\\tree\\updater_prune.cc:74: tree pruning end, 1 roots, 12 extra nodes, 0 pruned nodes, max_depth=3\n",
      "[11:03:55] C:\\Users\\Administrator\\Desktop\\xgboost\\src\\tree\\updater_prune.cc:74: tree pruning end, 1 roots, 12 extra nodes, 0 pruned nodes, max_depth=3\n",
      "[11:03:55] C:\\Users\\Administrator\\Desktop\\xgboost\\src\\tree\\updater_prune.cc:74: tree pruning end, 1 roots, 14 extra nodes, 0 pruned nodes, max_depth=3\n",
      "[11:03:55] C:\\Users\\Administrator\\Desktop\\xgboost\\src\\tree\\updater_prune.cc:74: tree pruning end, 1 roots, 12 extra nodes, 0 pruned nodes, max_depth=3\n",
      "[11:03:55] C:\\Users\\Administrator\\Desktop\\xgboost\\src\\tree\\updater_prune.cc:74: tree pruning end, 1 roots, 14 extra nodes, 0 pruned nodes, max_depth=3\n",
      "[11:03:55] C:\\Users\\Administrator\\Desktop\\xgboost\\src\\tree\\updater_prune.cc:74: tree pruning end, 1 roots, 14 extra nodes, 0 pruned nodes, max_depth=3\n",
      "[11:03:55] C:\\Users\\Administrator\\Desktop\\xgboost\\src\\tree\\updater_prune.cc:74: tree pruning end, 1 roots, 14 extra nodes, 0 pruned nodes, max_depth=3\n",
      "[11:03:55] C:\\Users\\Administrator\\Desktop\\xgboost\\src\\tree\\updater_prune.cc:74: tree pruning end, 1 roots, 12 extra nodes, 0 pruned nodes, max_depth=3\n",
      "[11:03:55] C:\\Users\\Administrator\\Desktop\\xgboost\\src\\tree\\updater_prune.cc:74: tree pruning end, 1 roots, 14 extra nodes, 0 pruned nodes, max_depth=3\n",
      "[11:03:55] C:\\Users\\Administrator\\Desktop\\xgboost\\src\\tree\\updater_prune.cc:74: tree pruning end, 1 roots, 14 extra nodes, 0 pruned nodes, max_depth=3\n",
      "[11:03:55] C:\\Users\\Administrator\\Desktop\\xgboost\\src\\tree\\updater_prune.cc:74: tree pruning end, 1 roots, 12 extra nodes, 0 pruned nodes, max_depth=3\n",
      "[11:03:55] C:\\Users\\Administrator\\Desktop\\xgboost\\src\\tree\\updater_prune.cc:74: tree pruning end, 1 roots, 14 extra nodes, 0 pruned nodes, max_depth=3\n",
      "[11:03:55] C:\\Users\\Administrator\\Desktop\\xgboost\\src\\tree\\updater_prune.cc:74: tree pruning end, 1 roots, 14 extra nodes, 0 pruned nodes, max_depth=3\n",
      "[11:03:55] C:\\Users\\Administrator\\Desktop\\xgboost\\src\\tree\\updater_prune.cc:74: tree pruning end, 1 roots, 12 extra nodes, 0 pruned nodes, max_depth=3\n",
      "[11:03:55] C:\\Users\\Administrator\\Desktop\\xgboost\\src\\tree\\updater_prune.cc:74: tree pruning end, 1 roots, 12 extra nodes, 0 pruned nodes, max_depth=3\n",
      "[11:03:55] C:\\Users\\Administrator\\Desktop\\xgboost\\src\\tree\\updater_prune.cc:74: tree pruning end, 1 roots, 14 extra nodes, 0 pruned nodes, max_depth=3\n",
      "[11:03:55] C:\\Users\\Administrator\\Desktop\\xgboost\\src\\tree\\updater_prune.cc:74: tree pruning end, 1 roots, 14 extra nodes, 0 pruned nodes, max_depth=3\n",
      "[11:03:55] C:\\Users\\Administrator\\Desktop\\xgboost\\src\\tree\\updater_prune.cc:74: tree pruning end, 1 roots, 12 extra nodes, 0 pruned nodes, max_depth=3\n",
      "[11:03:55] C:\\Users\\Administrator\\Desktop\\xgboost\\src\\tree\\updater_prune.cc:74: tree pruning end, 1 roots, 14 extra nodes, 0 pruned nodes, max_depth=3\n",
      "[11:03:55] C:\\Users\\Administrator\\Desktop\\xgboost\\src\\tree\\updater_prune.cc:74: tree pruning end, 1 roots, 12 extra nodes, 0 pruned nodes, max_depth=3\n",
      "[11:03:55] C:\\Users\\Administrator\\Desktop\\xgboost\\src\\tree\\updater_prune.cc:74: tree pruning end, 1 roots, 14 extra nodes, 0 pruned nodes, max_depth=3\n",
      "[11:03:55] C:\\Users\\Administrator\\Desktop\\xgboost\\src\\tree\\updater_prune.cc:74: tree pruning end, 1 roots, 12 extra nodes, 0 pruned nodes, max_depth=3\n",
      "[11:03:55] C:\\Users\\Administrator\\Desktop\\xgboost\\src\\tree\\updater_prune.cc:74: tree pruning end, 1 roots, 14 extra nodes, 0 pruned nodes, max_depth=3\n",
      "[11:03:55] C:\\Users\\Administrator\\Desktop\\xgboost\\src\\tree\\updater_prune.cc:74: tree pruning end, 1 roots, 14 extra nodes, 0 pruned nodes, max_depth=3\n",
      "[11:03:55] C:\\Users\\Administrator\\Desktop\\xgboost\\src\\tree\\updater_prune.cc:74: tree pruning end, 1 roots, 14 extra nodes, 0 pruned nodes, max_depth=3\n",
      "[11:03:55] C:\\Users\\Administrator\\Desktop\\xgboost\\src\\tree\\updater_prune.cc:74: tree pruning end, 1 roots, 12 extra nodes, 0 pruned nodes, max_depth=3\n",
      "[11:03:55] C:\\Users\\Administrator\\Desktop\\xgboost\\src\\tree\\updater_prune.cc:74: tree pruning end, 1 roots, 8 extra nodes, 0 pruned nodes, max_depth=3\n",
      "[11:03:55] C:\\Users\\Administrator\\Desktop\\xgboost\\src\\tree\\updater_prune.cc:74: tree pruning end, 1 roots, 12 extra nodes, 0 pruned nodes, max_depth=3\n",
      "[11:03:55] C:\\Users\\Administrator\\Desktop\\xgboost\\src\\tree\\updater_prune.cc:74: tree pruning end, 1 roots, 14 extra nodes, 0 pruned nodes, max_depth=3\n",
      "[11:03:55] C:\\Users\\Administrator\\Desktop\\xgboost\\src\\tree\\updater_prune.cc:74: tree pruning end, 1 roots, 12 extra nodes, 0 pruned nodes, max_depth=3\n",
      "[11:03:55] C:\\Users\\Administrator\\Desktop\\xgboost\\src\\tree\\updater_prune.cc:74: tree pruning end, 1 roots, 12 extra nodes, 0 pruned nodes, max_depth=3\n",
      "[11:03:55] C:\\Users\\Administrator\\Desktop\\xgboost\\src\\tree\\updater_prune.cc:74: tree pruning end, 1 roots, 12 extra nodes, 0 pruned nodes, max_depth=3\n",
      "[11:03:55] C:\\Users\\Administrator\\Desktop\\xgboost\\src\\tree\\updater_prune.cc:74: tree pruning end, 1 roots, 10 extra nodes, 0 pruned nodes, max_depth=3\n",
      "[11:03:55] C:\\Users\\Administrator\\Desktop\\xgboost\\src\\tree\\updater_prune.cc:74: tree pruning end, 1 roots, 12 extra nodes, 0 pruned nodes, max_depth=3\n",
      "[11:03:55] C:\\Users\\Administrator\\Desktop\\xgboost\\src\\tree\\updater_prune.cc:74: tree pruning end, 1 roots, 12 extra nodes, 0 pruned nodes, max_depth=3\n",
      "[11:03:55] C:\\Users\\Administrator\\Desktop\\xgboost\\src\\tree\\updater_prune.cc:74: tree pruning end, 1 roots, 14 extra nodes, 0 pruned nodes, max_depth=3\n",
      "[11:03:55] C:\\Users\\Administrator\\Desktop\\xgboost\\src\\tree\\updater_prune.cc:74: tree pruning end, 1 roots, 12 extra nodes, 0 pruned nodes, max_depth=3\n",
      "[11:03:55] C:\\Users\\Administrator\\Desktop\\xgboost\\src\\tree\\updater_prune.cc:74: tree pruning end, 1 roots, 14 extra nodes, 0 pruned nodes, max_depth=3\n",
      "[11:03:55] C:\\Users\\Administrator\\Desktop\\xgboost\\src\\tree\\updater_prune.cc:74: tree pruning end, 1 roots, 14 extra nodes, 0 pruned nodes, max_depth=3\n",
      "[11:03:55] C:\\Users\\Administrator\\Desktop\\xgboost\\src\\tree\\updater_prune.cc:74: tree pruning end, 1 roots, 12 extra nodes, 0 pruned nodes, max_depth=3\n",
      "[11:03:55] C:\\Users\\Administrator\\Desktop\\xgboost\\src\\tree\\updater_prune.cc:74: tree pruning end, 1 roots, 12 extra nodes, 0 pruned nodes, max_depth=3\n",
      "[11:03:55] C:\\Users\\Administrator\\Desktop\\xgboost\\src\\tree\\updater_prune.cc:74: tree pruning end, 1 roots, 14 extra nodes, 0 pruned nodes, max_depth=3\n",
      "[11:03:55] C:\\Users\\Administrator\\Desktop\\xgboost\\src\\tree\\updater_prune.cc:74: tree pruning end, 1 roots, 10 extra nodes, 0 pruned nodes, max_depth=3\n",
      "[11:03:55] C:\\Users\\Administrator\\Desktop\\xgboost\\src\\tree\\updater_prune.cc:74: tree pruning end, 1 roots, 8 extra nodes, 0 pruned nodes, max_depth=3\n",
      "[11:03:55] C:\\Users\\Administrator\\Desktop\\xgboost\\src\\tree\\updater_prune.cc:74: tree pruning end, 1 roots, 14 extra nodes, 0 pruned nodes, max_depth=3\n",
      "[11:03:55] C:\\Users\\Administrator\\Desktop\\xgboost\\src\\tree\\updater_prune.cc:74: tree pruning end, 1 roots, 14 extra nodes, 0 pruned nodes, max_depth=3\n",
      "[11:03:55] C:\\Users\\Administrator\\Desktop\\xgboost\\src\\tree\\updater_prune.cc:74: tree pruning end, 1 roots, 12 extra nodes, 0 pruned nodes, max_depth=3\n",
      "[11:03:55] C:\\Users\\Administrator\\Desktop\\xgboost\\src\\tree\\updater_prune.cc:74: tree pruning end, 1 roots, 12 extra nodes, 0 pruned nodes, max_depth=3\n",
      "[11:03:55] C:\\Users\\Administrator\\Desktop\\xgboost\\src\\tree\\updater_prune.cc:74: tree pruning end, 1 roots, 12 extra nodes, 0 pruned nodes, max_depth=3\n",
      "[11:03:55] C:\\Users\\Administrator\\Desktop\\xgboost\\src\\tree\\updater_prune.cc:74: tree pruning end, 1 roots, 8 extra nodes, 0 pruned nodes, max_depth=3\n",
      "[11:03:55] C:\\Users\\Administrator\\Desktop\\xgboost\\src\\tree\\updater_prune.cc:74: tree pruning end, 1 roots, 14 extra nodes, 0 pruned nodes, max_depth=3\n",
      "[11:03:55] C:\\Users\\Administrator\\Desktop\\xgboost\\src\\tree\\updater_prune.cc:74: tree pruning end, 1 roots, 12 extra nodes, 0 pruned nodes, max_depth=3\n",
      "[11:03:55] C:\\Users\\Administrator\\Desktop\\xgboost\\src\\tree\\updater_prune.cc:74: tree pruning end, 1 roots, 14 extra nodes, 0 pruned nodes, max_depth=3\n",
      "[11:03:55] C:\\Users\\Administrator\\Desktop\\xgboost\\src\\tree\\updater_prune.cc:74: tree pruning end, 1 roots, 12 extra nodes, 0 pruned nodes, max_depth=3\n",
      "[11:03:55] C:\\Users\\Administrator\\Desktop\\xgboost\\src\\tree\\updater_prune.cc:74: tree pruning end, 1 roots, 8 extra nodes, 0 pruned nodes, max_depth=3\n",
      "[11:03:55] C:\\Users\\Administrator\\Desktop\\xgboost\\src\\tree\\updater_prune.cc:74: tree pruning end, 1 roots, 12 extra nodes, 0 pruned nodes, max_depth=3\n",
      "[11:03:55] C:\\Users\\Administrator\\Desktop\\xgboost\\src\\tree\\updater_prune.cc:74: tree pruning end, 1 roots, 14 extra nodes, 0 pruned nodes, max_depth=3\n",
      "[11:03:55] C:\\Users\\Administrator\\Desktop\\xgboost\\src\\tree\\updater_prune.cc:74: tree pruning end, 1 roots, 14 extra nodes, 0 pruned nodes, max_depth=3\n",
      "[11:03:55] C:\\Users\\Administrator\\Desktop\\xgboost\\src\\tree\\updater_prune.cc:74: tree pruning end, 1 roots, 14 extra nodes, 0 pruned nodes, max_depth=3\n",
      "[11:03:56] C:\\Users\\Administrator\\Desktop\\xgboost\\src\\tree\\updater_prune.cc:74: tree pruning end, 1 roots, 14 extra nodes, 0 pruned nodes, max_depth=3\n",
      "[11:03:56] C:\\Users\\Administrator\\Desktop\\xgboost\\src\\tree\\updater_prune.cc:74: tree pruning end, 1 roots, 14 extra nodes, 0 pruned nodes, max_depth=3\n",
      "[11:03:56] C:\\Users\\Administrator\\Desktop\\xgboost\\src\\tree\\updater_prune.cc:74: tree pruning end, 1 roots, 14 extra nodes, 0 pruned nodes, max_depth=3\n",
      "[11:03:56] C:\\Users\\Administrator\\Desktop\\xgboost\\src\\tree\\updater_prune.cc:74: tree pruning end, 1 roots, 12 extra nodes, 0 pruned nodes, max_depth=3\n",
      "[11:03:56] C:\\Users\\Administrator\\Desktop\\xgboost\\src\\tree\\updater_prune.cc:74: tree pruning end, 1 roots, 14 extra nodes, 0 pruned nodes, max_depth=3\n",
      "[11:03:56] C:\\Users\\Administrator\\Desktop\\xgboost\\src\\tree\\updater_prune.cc:74: tree pruning end, 1 roots, 14 extra nodes, 0 pruned nodes, max_depth=3\n",
      "[11:03:56] C:\\Users\\Administrator\\Desktop\\xgboost\\src\\tree\\updater_prune.cc:74: tree pruning end, 1 roots, 12 extra nodes, 0 pruned nodes, max_depth=3\n",
      "[11:03:56] C:\\Users\\Administrator\\Desktop\\xgboost\\src\\tree\\updater_prune.cc:74: tree pruning end, 1 roots, 8 extra nodes, 0 pruned nodes, max_depth=3\n",
      "[11:03:56] C:\\Users\\Administrator\\Desktop\\xgboost\\src\\tree\\updater_prune.cc:74: tree pruning end, 1 roots, 10 extra nodes, 0 pruned nodes, max_depth=3\n",
      "[11:03:56] C:\\Users\\Administrator\\Desktop\\xgboost\\src\\tree\\updater_prune.cc:74: tree pruning end, 1 roots, 12 extra nodes, 0 pruned nodes, max_depth=3\n",
      "[11:03:56] C:\\Users\\Administrator\\Desktop\\xgboost\\src\\tree\\updater_prune.cc:74: tree pruning end, 1 roots, 8 extra nodes, 0 pruned nodes, max_depth=3\n",
      "[11:03:56] C:\\Users\\Administrator\\Desktop\\xgboost\\src\\tree\\updater_prune.cc:74: tree pruning end, 1 roots, 14 extra nodes, 0 pruned nodes, max_depth=3\n"
     ]
    },
    {
     "name": "stdout",
     "output_type": "stream",
     "text": [
      "[11:03:56] C:\\Users\\Administrator\\Desktop\\xgboost\\src\\tree\\updater_prune.cc:74: tree pruning end, 1 roots, 12 extra nodes, 0 pruned nodes, max_depth=3\n",
      "[11:03:56] C:\\Users\\Administrator\\Desktop\\xgboost\\src\\tree\\updater_prune.cc:74: tree pruning end, 1 roots, 14 extra nodes, 0 pruned nodes, max_depth=3\n",
      "[11:03:56] C:\\Users\\Administrator\\Desktop\\xgboost\\src\\tree\\updater_prune.cc:74: tree pruning end, 1 roots, 8 extra nodes, 0 pruned nodes, max_depth=3\n",
      "[11:03:56] C:\\Users\\Administrator\\Desktop\\xgboost\\src\\tree\\updater_prune.cc:74: tree pruning end, 1 roots, 12 extra nodes, 0 pruned nodes, max_depth=3\n",
      "[11:03:56] C:\\Users\\Administrator\\Desktop\\xgboost\\src\\tree\\updater_prune.cc:74: tree pruning end, 1 roots, 12 extra nodes, 0 pruned nodes, max_depth=3\n",
      "[11:03:56] C:\\Users\\Administrator\\Desktop\\xgboost\\src\\tree\\updater_prune.cc:74: tree pruning end, 1 roots, 12 extra nodes, 0 pruned nodes, max_depth=3\n",
      "[11:03:56] C:\\Users\\Administrator\\Desktop\\xgboost\\src\\tree\\updater_prune.cc:74: tree pruning end, 1 roots, 12 extra nodes, 0 pruned nodes, max_depth=3\n",
      "[11:03:56] C:\\Users\\Administrator\\Desktop\\xgboost\\src\\tree\\updater_prune.cc:74: tree pruning end, 1 roots, 14 extra nodes, 0 pruned nodes, max_depth=3\n",
      "[11:03:56] C:\\Users\\Administrator\\Desktop\\xgboost\\src\\tree\\updater_prune.cc:74: tree pruning end, 1 roots, 8 extra nodes, 0 pruned nodes, max_depth=3\n",
      "[11:03:56] C:\\Users\\Administrator\\Desktop\\xgboost\\src\\tree\\updater_prune.cc:74: tree pruning end, 1 roots, 12 extra nodes, 0 pruned nodes, max_depth=3\n",
      "[11:03:56] C:\\Users\\Administrator\\Desktop\\xgboost\\src\\tree\\updater_prune.cc:74: tree pruning end, 1 roots, 8 extra nodes, 0 pruned nodes, max_depth=3\n",
      "[11:03:56] C:\\Users\\Administrator\\Desktop\\xgboost\\src\\tree\\updater_prune.cc:74: tree pruning end, 1 roots, 14 extra nodes, 0 pruned nodes, max_depth=3\n",
      "[11:03:56] C:\\Users\\Administrator\\Desktop\\xgboost\\src\\tree\\updater_prune.cc:74: tree pruning end, 1 roots, 12 extra nodes, 0 pruned nodes, max_depth=3\n",
      "[11:03:56] C:\\Users\\Administrator\\Desktop\\xgboost\\src\\tree\\updater_prune.cc:74: tree pruning end, 1 roots, 14 extra nodes, 0 pruned nodes, max_depth=3\n",
      "[11:03:56] C:\\Users\\Administrator\\Desktop\\xgboost\\src\\tree\\updater_prune.cc:74: tree pruning end, 1 roots, 8 extra nodes, 0 pruned nodes, max_depth=3\n",
      "[11:03:56] C:\\Users\\Administrator\\Desktop\\xgboost\\src\\tree\\updater_prune.cc:74: tree pruning end, 1 roots, 12 extra nodes, 0 pruned nodes, max_depth=3\n",
      "[11:03:56] C:\\Users\\Administrator\\Desktop\\xgboost\\src\\tree\\updater_prune.cc:74: tree pruning end, 1 roots, 10 extra nodes, 0 pruned nodes, max_depth=3\n",
      "[11:03:56] C:\\Users\\Administrator\\Desktop\\xgboost\\src\\tree\\updater_prune.cc:74: tree pruning end, 1 roots, 14 extra nodes, 0 pruned nodes, max_depth=3\n",
      "[11:03:56] C:\\Users\\Administrator\\Desktop\\xgboost\\src\\tree\\updater_prune.cc:74: tree pruning end, 1 roots, 12 extra nodes, 0 pruned nodes, max_depth=3\n",
      "[11:03:56] C:\\Users\\Administrator\\Desktop\\xgboost\\src\\tree\\updater_prune.cc:74: tree pruning end, 1 roots, 14 extra nodes, 0 pruned nodes, max_depth=3\n",
      "[11:03:56] C:\\Users\\Administrator\\Desktop\\xgboost\\src\\tree\\updater_prune.cc:74: tree pruning end, 1 roots, 14 extra nodes, 0 pruned nodes, max_depth=3\n",
      "[11:03:56] C:\\Users\\Administrator\\Desktop\\xgboost\\src\\tree\\updater_prune.cc:74: tree pruning end, 1 roots, 12 extra nodes, 0 pruned nodes, max_depth=3\n",
      "[11:03:56] C:\\Users\\Administrator\\Desktop\\xgboost\\src\\tree\\updater_prune.cc:74: tree pruning end, 1 roots, 8 extra nodes, 0 pruned nodes, max_depth=3\n",
      "[11:03:56] C:\\Users\\Administrator\\Desktop\\xgboost\\src\\tree\\updater_prune.cc:74: tree pruning end, 1 roots, 8 extra nodes, 0 pruned nodes, max_depth=3\n",
      "[11:03:56] C:\\Users\\Administrator\\Desktop\\xgboost\\src\\tree\\updater_prune.cc:74: tree pruning end, 1 roots, 8 extra nodes, 0 pruned nodes, max_depth=3\n",
      "[11:03:56] C:\\Users\\Administrator\\Desktop\\xgboost\\src\\tree\\updater_prune.cc:74: tree pruning end, 1 roots, 8 extra nodes, 0 pruned nodes, max_depth=3\n",
      "[11:03:56] C:\\Users\\Administrator\\Desktop\\xgboost\\src\\tree\\updater_prune.cc:74: tree pruning end, 1 roots, 14 extra nodes, 0 pruned nodes, max_depth=3\n",
      "[11:03:56] C:\\Users\\Administrator\\Desktop\\xgboost\\src\\tree\\updater_prune.cc:74: tree pruning end, 1 roots, 6 extra nodes, 0 pruned nodes, max_depth=3\n",
      "[11:03:56] C:\\Users\\Administrator\\Desktop\\xgboost\\src\\tree\\updater_prune.cc:74: tree pruning end, 1 roots, 8 extra nodes, 0 pruned nodes, max_depth=3\n",
      "[11:03:56] C:\\Users\\Administrator\\Desktop\\xgboost\\src\\tree\\updater_prune.cc:74: tree pruning end, 1 roots, 12 extra nodes, 0 pruned nodes, max_depth=3\n",
      "[11:03:56] C:\\Users\\Administrator\\Desktop\\xgboost\\src\\tree\\updater_prune.cc:74: tree pruning end, 1 roots, 6 extra nodes, 0 pruned nodes, max_depth=3\n",
      "[11:03:56] C:\\Users\\Administrator\\Desktop\\xgboost\\src\\tree\\updater_prune.cc:74: tree pruning end, 1 roots, 10 extra nodes, 0 pruned nodes, max_depth=3\n",
      "[11:03:56] C:\\Users\\Administrator\\Desktop\\xgboost\\src\\tree\\updater_prune.cc:74: tree pruning end, 1 roots, 8 extra nodes, 0 pruned nodes, max_depth=3\n",
      "[11:03:56] C:\\Users\\Administrator\\Desktop\\xgboost\\src\\tree\\updater_prune.cc:74: tree pruning end, 1 roots, 12 extra nodes, 0 pruned nodes, max_depth=3\n",
      "[11:03:56] C:\\Users\\Administrator\\Desktop\\xgboost\\src\\tree\\updater_prune.cc:74: tree pruning end, 1 roots, 14 extra nodes, 0 pruned nodes, max_depth=3\n",
      "[11:03:56] C:\\Users\\Administrator\\Desktop\\xgboost\\src\\tree\\updater_prune.cc:74: tree pruning end, 1 roots, 10 extra nodes, 0 pruned nodes, max_depth=3\n",
      "[11:03:56] C:\\Users\\Administrator\\Desktop\\xgboost\\src\\tree\\updater_prune.cc:74: tree pruning end, 1 roots, 14 extra nodes, 0 pruned nodes, max_depth=3\n",
      "[11:03:56] C:\\Users\\Administrator\\Desktop\\xgboost\\src\\tree\\updater_prune.cc:74: tree pruning end, 1 roots, 14 extra nodes, 0 pruned nodes, max_depth=3\n",
      "[11:03:56] C:\\Users\\Administrator\\Desktop\\xgboost\\src\\tree\\updater_prune.cc:74: tree pruning end, 1 roots, 8 extra nodes, 0 pruned nodes, max_depth=3\n",
      "[11:03:56] C:\\Users\\Administrator\\Desktop\\xgboost\\src\\tree\\updater_prune.cc:74: tree pruning end, 1 roots, 12 extra nodes, 0 pruned nodes, max_depth=3\n",
      "[11:03:56] C:\\Users\\Administrator\\Desktop\\xgboost\\src\\tree\\updater_prune.cc:74: tree pruning end, 1 roots, 8 extra nodes, 0 pruned nodes, max_depth=3\n",
      "[11:03:56] C:\\Users\\Administrator\\Desktop\\xgboost\\src\\tree\\updater_prune.cc:74: tree pruning end, 1 roots, 12 extra nodes, 0 pruned nodes, max_depth=3\n",
      "[11:03:56] C:\\Users\\Administrator\\Desktop\\xgboost\\src\\tree\\updater_prune.cc:74: tree pruning end, 1 roots, 12 extra nodes, 0 pruned nodes, max_depth=3\n",
      "[11:03:56] C:\\Users\\Administrator\\Desktop\\xgboost\\src\\tree\\updater_prune.cc:74: tree pruning end, 1 roots, 14 extra nodes, 0 pruned nodes, max_depth=3\n",
      "[11:03:56] C:\\Users\\Administrator\\Desktop\\xgboost\\src\\tree\\updater_prune.cc:74: tree pruning end, 1 roots, 8 extra nodes, 0 pruned nodes, max_depth=3\n",
      "[11:03:56] C:\\Users\\Administrator\\Desktop\\xgboost\\src\\tree\\updater_prune.cc:74: tree pruning end, 1 roots, 8 extra nodes, 0 pruned nodes, max_depth=3\n",
      "[11:03:56] C:\\Users\\Administrator\\Desktop\\xgboost\\src\\tree\\updater_prune.cc:74: tree pruning end, 1 roots, 12 extra nodes, 0 pruned nodes, max_depth=3\n",
      "[11:03:56] C:\\Users\\Administrator\\Desktop\\xgboost\\src\\tree\\updater_prune.cc:74: tree pruning end, 1 roots, 6 extra nodes, 0 pruned nodes, max_depth=3\n",
      "[11:03:56] C:\\Users\\Administrator\\Desktop\\xgboost\\src\\tree\\updater_prune.cc:74: tree pruning end, 1 roots, 12 extra nodes, 0 pruned nodes, max_depth=3\n",
      "[11:03:56] C:\\Users\\Administrator\\Desktop\\xgboost\\src\\tree\\updater_prune.cc:74: tree pruning end, 1 roots, 12 extra nodes, 0 pruned nodes, max_depth=3\n",
      "[11:03:56] C:\\Users\\Administrator\\Desktop\\xgboost\\src\\tree\\updater_prune.cc:74: tree pruning end, 1 roots, 6 extra nodes, 0 pruned nodes, max_depth=3\n",
      "[11:03:56] C:\\Users\\Administrator\\Desktop\\xgboost\\src\\tree\\updater_prune.cc:74: tree pruning end, 1 roots, 10 extra nodes, 0 pruned nodes, max_depth=3\n",
      "[11:03:56] C:\\Users\\Administrator\\Desktop\\xgboost\\src\\tree\\updater_prune.cc:74: tree pruning end, 1 roots, 8 extra nodes, 0 pruned nodes, max_depth=3\n",
      "[11:03:56] C:\\Users\\Administrator\\Desktop\\xgboost\\src\\tree\\updater_prune.cc:74: tree pruning end, 1 roots, 8 extra nodes, 0 pruned nodes, max_depth=3\n",
      "[11:03:56] C:\\Users\\Administrator\\Desktop\\xgboost\\src\\tree\\updater_prune.cc:74: tree pruning end, 1 roots, 8 extra nodes, 0 pruned nodes, max_depth=3\n",
      "[11:03:56] C:\\Users\\Administrator\\Desktop\\xgboost\\src\\tree\\updater_prune.cc:74: tree pruning end, 1 roots, 10 extra nodes, 0 pruned nodes, max_depth=3\n",
      "[11:03:56] C:\\Users\\Administrator\\Desktop\\xgboost\\src\\tree\\updater_prune.cc:74: tree pruning end, 1 roots, 12 extra nodes, 0 pruned nodes, max_depth=3\n",
      "[11:03:56] C:\\Users\\Administrator\\Desktop\\xgboost\\src\\tree\\updater_prune.cc:74: tree pruning end, 1 roots, 12 extra nodes, 0 pruned nodes, max_depth=3\n",
      "[11:03:56] C:\\Users\\Administrator\\Desktop\\xgboost\\src\\tree\\updater_prune.cc:74: tree pruning end, 1 roots, 14 extra nodes, 0 pruned nodes, max_depth=3\n",
      "[11:03:56] C:\\Users\\Administrator\\Desktop\\xgboost\\src\\tree\\updater_prune.cc:74: tree pruning end, 1 roots, 14 extra nodes, 0 pruned nodes, max_depth=3\n",
      "[11:03:56] C:\\Users\\Administrator\\Desktop\\xgboost\\src\\tree\\updater_prune.cc:74: tree pruning end, 1 roots, 12 extra nodes, 0 pruned nodes, max_depth=3\n",
      "[11:03:56] C:\\Users\\Administrator\\Desktop\\xgboost\\src\\tree\\updater_prune.cc:74: tree pruning end, 1 roots, 8 extra nodes, 0 pruned nodes, max_depth=3\n",
      "[11:03:56] C:\\Users\\Administrator\\Desktop\\xgboost\\src\\tree\\updater_prune.cc:74: tree pruning end, 1 roots, 8 extra nodes, 0 pruned nodes, max_depth=3\n",
      "[11:03:56] C:\\Users\\Administrator\\Desktop\\xgboost\\src\\tree\\updater_prune.cc:74: tree pruning end, 1 roots, 8 extra nodes, 0 pruned nodes, max_depth=3\n",
      "[11:03:56] C:\\Users\\Administrator\\Desktop\\xgboost\\src\\tree\\updater_prune.cc:74: tree pruning end, 1 roots, 8 extra nodes, 0 pruned nodes, max_depth=3\n",
      "[11:03:56] C:\\Users\\Administrator\\Desktop\\xgboost\\src\\tree\\updater_prune.cc:74: tree pruning end, 1 roots, 8 extra nodes, 0 pruned nodes, max_depth=3\n",
      "[11:03:56] C:\\Users\\Administrator\\Desktop\\xgboost\\src\\tree\\updater_prune.cc:74: tree pruning end, 1 roots, 12 extra nodes, 0 pruned nodes, max_depth=3\n",
      "[11:03:56] C:\\Users\\Administrator\\Desktop\\xgboost\\src\\tree\\updater_prune.cc:74: tree pruning end, 1 roots, 12 extra nodes, 0 pruned nodes, max_depth=3\n",
      "[11:03:56] C:\\Users\\Administrator\\Desktop\\xgboost\\src\\tree\\updater_prune.cc:74: tree pruning end, 1 roots, 14 extra nodes, 0 pruned nodes, max_depth=3\n",
      "[11:03:56] C:\\Users\\Administrator\\Desktop\\xgboost\\src\\tree\\updater_prune.cc:74: tree pruning end, 1 roots, 12 extra nodes, 0 pruned nodes, max_depth=3\n",
      "[11:03:56] C:\\Users\\Administrator\\Desktop\\xgboost\\src\\tree\\updater_prune.cc:74: tree pruning end, 1 roots, 12 extra nodes, 0 pruned nodes, max_depth=3\n",
      "[11:03:56] C:\\Users\\Administrator\\Desktop\\xgboost\\src\\tree\\updater_prune.cc:74: tree pruning end, 1 roots, 14 extra nodes, 0 pruned nodes, max_depth=3\n",
      "[11:03:56] C:\\Users\\Administrator\\Desktop\\xgboost\\src\\tree\\updater_prune.cc:74: tree pruning end, 1 roots, 12 extra nodes, 0 pruned nodes, max_depth=3\n",
      "[11:03:56] C:\\Users\\Administrator\\Desktop\\xgboost\\src\\tree\\updater_prune.cc:74: tree pruning end, 1 roots, 8 extra nodes, 0 pruned nodes, max_depth=3\n",
      "[11:03:56] C:\\Users\\Administrator\\Desktop\\xgboost\\src\\tree\\updater_prune.cc:74: tree pruning end, 1 roots, 14 extra nodes, 0 pruned nodes, max_depth=3\n",
      "[11:03:56] C:\\Users\\Administrator\\Desktop\\xgboost\\src\\tree\\updater_prune.cc:74: tree pruning end, 1 roots, 14 extra nodes, 0 pruned nodes, max_depth=3\n",
      "[11:03:56] C:\\Users\\Administrator\\Desktop\\xgboost\\src\\tree\\updater_prune.cc:74: tree pruning end, 1 roots, 10 extra nodes, 0 pruned nodes, max_depth=3\n",
      "[11:03:56] C:\\Users\\Administrator\\Desktop\\xgboost\\src\\tree\\updater_prune.cc:74: tree pruning end, 1 roots, 12 extra nodes, 0 pruned nodes, max_depth=3\n",
      "[11:03:56] C:\\Users\\Administrator\\Desktop\\xgboost\\src\\tree\\updater_prune.cc:74: tree pruning end, 1 roots, 14 extra nodes, 0 pruned nodes, max_depth=3\n",
      "[11:03:56] C:\\Users\\Administrator\\Desktop\\xgboost\\src\\tree\\updater_prune.cc:74: tree pruning end, 1 roots, 6 extra nodes, 0 pruned nodes, max_depth=3\n",
      "[11:03:56] C:\\Users\\Administrator\\Desktop\\xgboost\\src\\tree\\updater_prune.cc:74: tree pruning end, 1 roots, 6 extra nodes, 0 pruned nodes, max_depth=3\n",
      "[11:03:56] C:\\Users\\Administrator\\Desktop\\xgboost\\src\\tree\\updater_prune.cc:74: tree pruning end, 1 roots, 12 extra nodes, 0 pruned nodes, max_depth=3\n"
     ]
    },
    {
     "name": "stdout",
     "output_type": "stream",
     "text": [
      "[11:03:56] C:\\Users\\Administrator\\Desktop\\xgboost\\src\\tree\\updater_prune.cc:74: tree pruning end, 1 roots, 12 extra nodes, 0 pruned nodes, max_depth=3\n",
      "[11:03:56] C:\\Users\\Administrator\\Desktop\\xgboost\\src\\tree\\updater_prune.cc:74: tree pruning end, 1 roots, 12 extra nodes, 0 pruned nodes, max_depth=3\n",
      "[11:03:56] C:\\Users\\Administrator\\Desktop\\xgboost\\src\\tree\\updater_prune.cc:74: tree pruning end, 1 roots, 14 extra nodes, 0 pruned nodes, max_depth=3\n",
      "[11:03:56] C:\\Users\\Administrator\\Desktop\\xgboost\\src\\tree\\updater_prune.cc:74: tree pruning end, 1 roots, 8 extra nodes, 0 pruned nodes, max_depth=3\n",
      "[11:03:56] C:\\Users\\Administrator\\Desktop\\xgboost\\src\\tree\\updater_prune.cc:74: tree pruning end, 1 roots, 14 extra nodes, 0 pruned nodes, max_depth=3\n",
      "[11:03:56] C:\\Users\\Administrator\\Desktop\\xgboost\\src\\tree\\updater_prune.cc:74: tree pruning end, 1 roots, 14 extra nodes, 0 pruned nodes, max_depth=3\n",
      "[11:03:56] C:\\Users\\Administrator\\Desktop\\xgboost\\src\\tree\\updater_prune.cc:74: tree pruning end, 1 roots, 12 extra nodes, 0 pruned nodes, max_depth=3\n",
      "[11:03:56] C:\\Users\\Administrator\\Desktop\\xgboost\\src\\tree\\updater_prune.cc:74: tree pruning end, 1 roots, 12 extra nodes, 0 pruned nodes, max_depth=3\n",
      "[11:03:56] C:\\Users\\Administrator\\Desktop\\xgboost\\src\\tree\\updater_prune.cc:74: tree pruning end, 1 roots, 8 extra nodes, 0 pruned nodes, max_depth=3\n",
      "[11:03:56] C:\\Users\\Administrator\\Desktop\\xgboost\\src\\tree\\updater_prune.cc:74: tree pruning end, 1 roots, 14 extra nodes, 0 pruned nodes, max_depth=3\n",
      "[11:03:56] C:\\Users\\Administrator\\Desktop\\xgboost\\src\\tree\\updater_prune.cc:74: tree pruning end, 1 roots, 14 extra nodes, 0 pruned nodes, max_depth=3\n",
      "[11:03:56] C:\\Users\\Administrator\\Desktop\\xgboost\\src\\tree\\updater_prune.cc:74: tree pruning end, 1 roots, 6 extra nodes, 0 pruned nodes, max_depth=3\n",
      "[11:03:56] C:\\Users\\Administrator\\Desktop\\xgboost\\src\\tree\\updater_prune.cc:74: tree pruning end, 1 roots, 12 extra nodes, 0 pruned nodes, max_depth=3\n",
      "[11:03:56] C:\\Users\\Administrator\\Desktop\\xgboost\\src\\tree\\updater_prune.cc:74: tree pruning end, 1 roots, 10 extra nodes, 0 pruned nodes, max_depth=3\n",
      "[11:03:56] C:\\Users\\Administrator\\Desktop\\xgboost\\src\\tree\\updater_prune.cc:74: tree pruning end, 1 roots, 8 extra nodes, 0 pruned nodes, max_depth=3\n",
      "[11:03:56] C:\\Users\\Administrator\\Desktop\\xgboost\\src\\tree\\updater_prune.cc:74: tree pruning end, 1 roots, 8 extra nodes, 0 pruned nodes, max_depth=3\n",
      "[11:03:56] C:\\Users\\Administrator\\Desktop\\xgboost\\src\\tree\\updater_prune.cc:74: tree pruning end, 1 roots, 8 extra nodes, 0 pruned nodes, max_depth=3\n",
      "[11:03:56] C:\\Users\\Administrator\\Desktop\\xgboost\\src\\tree\\updater_prune.cc:74: tree pruning end, 1 roots, 14 extra nodes, 0 pruned nodes, max_depth=3\n",
      "[11:03:56] C:\\Users\\Administrator\\Desktop\\xgboost\\src\\tree\\updater_prune.cc:74: tree pruning end, 1 roots, 14 extra nodes, 0 pruned nodes, max_depth=3\n",
      "[11:03:56] C:\\Users\\Administrator\\Desktop\\xgboost\\src\\tree\\updater_prune.cc:74: tree pruning end, 1 roots, 14 extra nodes, 0 pruned nodes, max_depth=3\n",
      "[11:03:56] C:\\Users\\Administrator\\Desktop\\xgboost\\src\\tree\\updater_prune.cc:74: tree pruning end, 1 roots, 12 extra nodes, 0 pruned nodes, max_depth=3\n",
      "[11:03:56] C:\\Users\\Administrator\\Desktop\\xgboost\\src\\tree\\updater_prune.cc:74: tree pruning end, 1 roots, 14 extra nodes, 0 pruned nodes, max_depth=3\n",
      "[11:03:56] C:\\Users\\Administrator\\Desktop\\xgboost\\src\\tree\\updater_prune.cc:74: tree pruning end, 1 roots, 12 extra nodes, 0 pruned nodes, max_depth=3\n",
      "Optimal number of trees  35\n"
     ]
    }
   ],
   "source": [
    "#writing an XGBoost model from scratch\n",
    "xgtrain = xgb.DMatrix(x_train, label=y_train)\n",
    "xgtest = xgb.DMatrix(x_test, label=y_test)\n",
    "param = {'objective':'binary:logistic', 'max_depth':3, 'learning_rate':0.1}\n",
    "num_rounds = 100\n",
    "clf_xgb_cv = xgb.cv(param,xgtrain,num_rounds,nfold=5, stratified= True, early_stopping_rounds=20,seed=2017)\n",
    "print('Optimal number of trees ', clf_xgb_cv.shape[0])\n"
   ]
  },
  {
   "cell_type": "code",
   "execution_count": 25,
   "metadata": {},
   "outputs": [
    {
     "name": "stdout",
     "output_type": "stream",
     "text": [
      "[14:10:43] C:\\Users\\Administrator\\Desktop\\xgboost\\src\\tree\\updater_prune.cc:74: tree pruning end, 1 roots, 14 extra nodes, 0 pruned nodes, max_depth=3\n",
      "[0]\ttest-error:0.181818\ttrain-error:0.239414\n",
      "[14:10:43] C:\\Users\\Administrator\\Desktop\\xgboost\\src\\tree\\updater_prune.cc:74: tree pruning end, 1 roots, 14 extra nodes, 0 pruned nodes, max_depth=3\n",
      "[1]\ttest-error:0.162338\ttrain-error:0.237785\n",
      "[14:10:43] C:\\Users\\Administrator\\Desktop\\xgboost\\src\\tree\\updater_prune.cc:74: tree pruning end, 1 roots, 14 extra nodes, 0 pruned nodes, max_depth=3\n",
      "[2]\ttest-error:0.162338\ttrain-error:0.237785\n",
      "[14:10:43] C:\\Users\\Administrator\\Desktop\\xgboost\\src\\tree\\updater_prune.cc:74: tree pruning end, 1 roots, 12 extra nodes, 0 pruned nodes, max_depth=3\n",
      "[3]\ttest-error:0.162338\ttrain-error:0.234528\n",
      "[14:10:43] C:\\Users\\Administrator\\Desktop\\xgboost\\src\\tree\\updater_prune.cc:74: tree pruning end, 1 roots, 14 extra nodes, 0 pruned nodes, max_depth=3\n",
      "[4]\ttest-error:0.162338\ttrain-error:0.228013\n",
      "[14:10:43] C:\\Users\\Administrator\\Desktop\\xgboost\\src\\tree\\updater_prune.cc:74: tree pruning end, 1 roots, 14 extra nodes, 0 pruned nodes, max_depth=3\n",
      "[5]\ttest-error:0.181818\ttrain-error:0.208469\n",
      "[14:10:43] C:\\Users\\Administrator\\Desktop\\xgboost\\src\\tree\\updater_prune.cc:74: tree pruning end, 1 roots, 12 extra nodes, 0 pruned nodes, max_depth=3\n",
      "[6]\ttest-error:0.162338\ttrain-error:0.203583\n",
      "[14:10:43] C:\\Users\\Administrator\\Desktop\\xgboost\\src\\tree\\updater_prune.cc:74: tree pruning end, 1 roots, 14 extra nodes, 0 pruned nodes, max_depth=3\n",
      "[7]\ttest-error:0.175325\ttrain-error:0.198697\n",
      "[14:10:43] C:\\Users\\Administrator\\Desktop\\xgboost\\src\\tree\\updater_prune.cc:74: tree pruning end, 1 roots, 14 extra nodes, 0 pruned nodes, max_depth=3\n",
      "[8]\ttest-error:0.175325\ttrain-error:0.200326\n",
      "[14:10:43] C:\\Users\\Administrator\\Desktop\\xgboost\\src\\tree\\updater_prune.cc:74: tree pruning end, 1 roots, 14 extra nodes, 0 pruned nodes, max_depth=3\n",
      "[9]\ttest-error:0.181818\ttrain-error:0.197068\n",
      "[14:10:43] C:\\Users\\Administrator\\Desktop\\xgboost\\src\\tree\\updater_prune.cc:74: tree pruning end, 1 roots, 14 extra nodes, 0 pruned nodes, max_depth=3\n",
      "[10]\ttest-error:0.181818\ttrain-error:0.187296\n",
      "[14:10:43] C:\\Users\\Administrator\\Desktop\\xgboost\\src\\tree\\updater_prune.cc:74: tree pruning end, 1 roots, 14 extra nodes, 0 pruned nodes, max_depth=3\n",
      "[11]\ttest-error:0.201299\ttrain-error:0.185668\n",
      "[14:10:43] C:\\Users\\Administrator\\Desktop\\xgboost\\src\\tree\\updater_prune.cc:74: tree pruning end, 1 roots, 14 extra nodes, 0 pruned nodes, max_depth=3\n",
      "[12]\ttest-error:0.201299\ttrain-error:0.187296\n",
      "[14:10:43] C:\\Users\\Administrator\\Desktop\\xgboost\\src\\tree\\updater_prune.cc:74: tree pruning end, 1 roots, 14 extra nodes, 0 pruned nodes, max_depth=3\n",
      "[13]\ttest-error:0.194805\ttrain-error:0.19544\n",
      "[14:10:43] C:\\Users\\Administrator\\Desktop\\xgboost\\src\\tree\\updater_prune.cc:74: tree pruning end, 1 roots, 14 extra nodes, 0 pruned nodes, max_depth=3\n",
      "[14]\ttest-error:0.201299\ttrain-error:0.193811\n",
      "[14:10:43] C:\\Users\\Administrator\\Desktop\\xgboost\\src\\tree\\updater_prune.cc:74: tree pruning end, 1 roots, 14 extra nodes, 0 pruned nodes, max_depth=3\n",
      "[15]\ttest-error:0.214286\ttrain-error:0.184039\n",
      "[14:10:43] C:\\Users\\Administrator\\Desktop\\xgboost\\src\\tree\\updater_prune.cc:74: tree pruning end, 1 roots, 14 extra nodes, 0 pruned nodes, max_depth=3\n",
      "[16]\ttest-error:0.220779\ttrain-error:0.179153\n",
      "[14:10:43] C:\\Users\\Administrator\\Desktop\\xgboost\\src\\tree\\updater_prune.cc:74: tree pruning end, 1 roots, 12 extra nodes, 0 pruned nodes, max_depth=3\n",
      "[17]\ttest-error:0.220779\ttrain-error:0.177524\n",
      "[14:10:43] C:\\Users\\Administrator\\Desktop\\xgboost\\src\\tree\\updater_prune.cc:74: tree pruning end, 1 roots, 14 extra nodes, 0 pruned nodes, max_depth=3\n",
      "[18]\ttest-error:0.207792\ttrain-error:0.177524\n",
      "[14:10:43] C:\\Users\\Administrator\\Desktop\\xgboost\\src\\tree\\updater_prune.cc:74: tree pruning end, 1 roots, 14 extra nodes, 0 pruned nodes, max_depth=3\n",
      "[19]\ttest-error:0.214286\ttrain-error:0.175896\n",
      "[14:10:43] C:\\Users\\Administrator\\Desktop\\xgboost\\src\\tree\\updater_prune.cc:74: tree pruning end, 1 roots, 14 extra nodes, 0 pruned nodes, max_depth=3\n",
      "[20]\ttest-error:0.207792\ttrain-error:0.175896\n",
      "[14:10:43] C:\\Users\\Administrator\\Desktop\\xgboost\\src\\tree\\updater_prune.cc:74: tree pruning end, 1 roots, 14 extra nodes, 0 pruned nodes, max_depth=3\n",
      "[21]\ttest-error:0.207792\ttrain-error:0.174267\n",
      "[14:10:43] C:\\Users\\Administrator\\Desktop\\xgboost\\src\\tree\\updater_prune.cc:74: tree pruning end, 1 roots, 14 extra nodes, 0 pruned nodes, max_depth=3\n",
      "[22]\ttest-error:0.214286\ttrain-error:0.167752\n",
      "[14:10:43] C:\\Users\\Administrator\\Desktop\\xgboost\\src\\tree\\updater_prune.cc:74: tree pruning end, 1 roots, 12 extra nodes, 0 pruned nodes, max_depth=3\n",
      "[23]\ttest-error:0.207792\ttrain-error:0.167752\n",
      "[14:10:43] C:\\Users\\Administrator\\Desktop\\xgboost\\src\\tree\\updater_prune.cc:74: tree pruning end, 1 roots, 12 extra nodes, 0 pruned nodes, max_depth=3\n",
      "[24]\ttest-error:0.220779\ttrain-error:0.17101\n",
      "[14:10:43] C:\\Users\\Administrator\\Desktop\\xgboost\\src\\tree\\updater_prune.cc:74: tree pruning end, 1 roots, 14 extra nodes, 0 pruned nodes, max_depth=3\n",
      "[25]\ttest-error:0.220779\ttrain-error:0.167752\n",
      "[14:10:43] C:\\Users\\Administrator\\Desktop\\xgboost\\src\\tree\\updater_prune.cc:74: tree pruning end, 1 roots, 14 extra nodes, 0 pruned nodes, max_depth=3\n",
      "[26]\ttest-error:0.214286\ttrain-error:0.167752\n",
      "[14:10:43] C:\\Users\\Administrator\\Desktop\\xgboost\\src\\tree\\updater_prune.cc:74: tree pruning end, 1 roots, 12 extra nodes, 0 pruned nodes, max_depth=3\n",
      "[27]\ttest-error:0.214286\ttrain-error:0.169381\n",
      "[14:10:43] C:\\Users\\Administrator\\Desktop\\xgboost\\src\\tree\\updater_prune.cc:74: tree pruning end, 1 roots, 14 extra nodes, 0 pruned nodes, max_depth=3\n",
      "[28]\ttest-error:0.214286\ttrain-error:0.167752\n",
      "[14:10:43] C:\\Users\\Administrator\\Desktop\\xgboost\\src\\tree\\updater_prune.cc:74: tree pruning end, 1 roots, 14 extra nodes, 0 pruned nodes, max_depth=3\n",
      "[29]\ttest-error:0.214286\ttrain-error:0.164495\n",
      "[14:10:43] C:\\Users\\Administrator\\Desktop\\xgboost\\src\\tree\\updater_prune.cc:74: tree pruning end, 1 roots, 8 extra nodes, 0 pruned nodes, max_depth=3\n",
      "[30]\ttest-error:0.207792\ttrain-error:0.167752\n",
      "[14:10:43] C:\\Users\\Administrator\\Desktop\\xgboost\\src\\tree\\updater_prune.cc:74: tree pruning end, 1 roots, 14 extra nodes, 0 pruned nodes, max_depth=3\n",
      "[31]\ttest-error:0.227273\ttrain-error:0.167752\n",
      "[14:10:43] C:\\Users\\Administrator\\Desktop\\xgboost\\src\\tree\\updater_prune.cc:74: tree pruning end, 1 roots, 14 extra nodes, 0 pruned nodes, max_depth=3\n",
      "[32]\ttest-error:0.220779\ttrain-error:0.162866\n",
      "[14:10:43] C:\\Users\\Administrator\\Desktop\\xgboost\\src\\tree\\updater_prune.cc:74: tree pruning end, 1 roots, 8 extra nodes, 0 pruned nodes, max_depth=3\n",
      "[33]\ttest-error:0.220779\ttrain-error:0.161238\n",
      "[14:10:43] C:\\Users\\Administrator\\Desktop\\xgboost\\src\\tree\\updater_prune.cc:74: tree pruning end, 1 roots, 14 extra nodes, 0 pruned nodes, max_depth=3\n",
      "[34]\ttest-error:0.214286\ttrain-error:0.162866\n"
     ]
    }
   ],
   "source": [
    "watch_list = [(xgtest, 'test'), (xgtrain,'train')]\n",
    "clf_xgb_new = xgb.train(param,xgtrain,clf_xgb_cv.shape[0],watch_list)"
   ]
  },
  {
   "cell_type": "code",
   "execution_count": 29,
   "metadata": {},
   "outputs": [],
   "source": [
    "#predict on train and on test\n",
    "y_preds_train = (clf_xgb_new.predict(xgtrain, ntree_limit= clf_xgb_new.best_iteration) > 0.5).astype(int)\n",
    "y_preds_test = (clf_xgb_new.predict(xgtest, ntree_limit= clf_xgb_new.best_iteration) > 0.5).astype(int)"
   ]
  },
  {
   "cell_type": "code",
   "execution_count": 31,
   "metadata": {},
   "outputs": [
    {
     "name": "stdout",
     "output_type": "stream",
     "text": [
      "Accuracy score on train data  0.8387622149837134\n",
      "Accuracy score on test data  0.7792207792207793\n"
     ]
    }
   ],
   "source": [
    "print('Accuracy score on train data ', metrics.accuracy_score(y_train,y_preds_train))\n",
    "print('Accuracy score on test data ', metrics.accuracy_score(y_test, y_preds_test))"
   ]
  },
  {
   "cell_type": "markdown",
   "metadata": {},
   "source": [
    "##  We are proceeding to use Ensemble Voting"
   ]
  },
  {
   "cell_type": "code",
   "execution_count": 9,
   "metadata": {},
   "outputs": [],
   "source": [
    "LG = LogisticRegression(random_state=2017)\n",
    "SV = SVC(probability=True)\n",
    "DT = DecisionTreeClassifier(random_state=2017)\n",
    "BC = BaggingClassifier(DT,n_estimators=100,random_state=2017)\n",
    "KN = KNeighborsClassifier()\n",
    "AD = AdaBoostClassifier(base_estimator=DT,learning_rate=0.01,n_estimators=100,random_state=2017)\n",
    "GB = GradientBoostingClassifier(random_state=2017,learning_rate=0.01)\n",
    "RF = RandomForestClassifier(random_state=2017,n_estimators=100)\n",
    "\n",
    "\n"
   ]
  },
  {
   "cell_type": "code",
   "execution_count": 10,
   "metadata": {},
   "outputs": [
    {
     "name": "stdout",
     "output_type": "stream",
     "text": [
      "5 fold cross-validation\n"
     ]
    },
    {
     "name": "stderr",
     "output_type": "stream",
     "text": [
      "C:\\Users\\Michael\\Anaconda3.2\\lib\\site-packages\\sklearn\\linear_model\\logistic.py:432: FutureWarning: Default solver will be changed to 'lbfgs' in 0.22. Specify a solver to silence this warning.\n",
      "  FutureWarning)\n",
      "C:\\Users\\Michael\\Anaconda3.2\\lib\\site-packages\\sklearn\\linear_model\\logistic.py:432: FutureWarning: Default solver will be changed to 'lbfgs' in 0.22. Specify a solver to silence this warning.\n",
      "  FutureWarning)\n",
      "C:\\Users\\Michael\\Anaconda3.2\\lib\\site-packages\\sklearn\\linear_model\\logistic.py:432: FutureWarning: Default solver will be changed to 'lbfgs' in 0.22. Specify a solver to silence this warning.\n",
      "  FutureWarning)\n",
      "C:\\Users\\Michael\\Anaconda3.2\\lib\\site-packages\\sklearn\\linear_model\\logistic.py:432: FutureWarning: Default solver will be changed to 'lbfgs' in 0.22. Specify a solver to silence this warning.\n",
      "  FutureWarning)\n",
      "C:\\Users\\Michael\\Anaconda3.2\\lib\\site-packages\\sklearn\\linear_model\\logistic.py:432: FutureWarning: Default solver will be changed to 'lbfgs' in 0.22. Specify a solver to silence this warning.\n",
      "  FutureWarning)\n",
      "C:\\Users\\Michael\\Anaconda3.2\\lib\\site-packages\\sklearn\\linear_model\\logistic.py:432: FutureWarning: Default solver will be changed to 'lbfgs' in 0.22. Specify a solver to silence this warning.\n",
      "  FutureWarning)\n",
      "C:\\Users\\Michael\\Anaconda3.2\\lib\\site-packages\\sklearn\\svm\\base.py:196: FutureWarning: The default value of gamma will change from 'auto' to 'scale' in version 0.22 to account better for unscaled features. Set gamma explicitly to 'auto' or 'scale' to avoid this warning.\n",
      "  \"avoid this warning.\", FutureWarning)\n"
     ]
    },
    {
     "name": "stdout",
     "output_type": "stream",
     "text": [
      "Train score for Logistic Regression 0.7653622421998942 , The standard deviation 0.026913988025653642\n",
      "Accuracy on test set  0.8116883116883117\n",
      "Area under ROC Curve  0.7602322482391015\n"
     ]
    },
    {
     "name": "stderr",
     "output_type": "stream",
     "text": [
      "C:\\Users\\Michael\\Anaconda3.2\\lib\\site-packages\\sklearn\\svm\\base.py:196: FutureWarning: The default value of gamma will change from 'auto' to 'scale' in version 0.22 to account better for unscaled features. Set gamma explicitly to 'auto' or 'scale' to avoid this warning.\n",
      "  \"avoid this warning.\", FutureWarning)\n",
      "C:\\Users\\Michael\\Anaconda3.2\\lib\\site-packages\\sklearn\\svm\\base.py:196: FutureWarning: The default value of gamma will change from 'auto' to 'scale' in version 0.22 to account better for unscaled features. Set gamma explicitly to 'auto' or 'scale' to avoid this warning.\n",
      "  \"avoid this warning.\", FutureWarning)\n",
      "C:\\Users\\Michael\\Anaconda3.2\\lib\\site-packages\\sklearn\\svm\\base.py:196: FutureWarning: The default value of gamma will change from 'auto' to 'scale' in version 0.22 to account better for unscaled features. Set gamma explicitly to 'auto' or 'scale' to avoid this warning.\n",
      "  \"avoid this warning.\", FutureWarning)\n",
      "C:\\Users\\Michael\\Anaconda3.2\\lib\\site-packages\\sklearn\\svm\\base.py:196: FutureWarning: The default value of gamma will change from 'auto' to 'scale' in version 0.22 to account better for unscaled features. Set gamma explicitly to 'auto' or 'scale' to avoid this warning.\n",
      "  \"avoid this warning.\", FutureWarning)\n"
     ]
    },
    {
     "name": "stdout",
     "output_type": "stream",
     "text": [
      "Train score for Support Vector 0.7425171866737176 , The standard deviation 0.029341760082026557\n",
      "Accuracy on test set  0.8116883116883117\n",
      "Area under ROC Curve  0.7651818008756901\n",
      "Train score for Decision Tree 0.7003437334743521 , The standard deviation 0.03219662813105037\n",
      "Accuracy on test set  0.7467532467532467\n",
      "Area under ROC Curve  0.6968399010089473\n",
      "Train score for Bagging Classifier 0.7474616604970915 , The standard deviation 0.03512763098534\n",
      "Accuracy on test set  0.8181818181818182\n",
      "Area under ROC Curve  0.7799352750809061\n",
      "Train score for K Neighbors 0.7246959280803809 , The standard deviation 0.027496847353948643\n",
      "Accuracy on test set  0.7792207792207793\n",
      "Area under ROC Curve  0.7409099562154959\n",
      "Train score for Ada Boost 0.690613432046536 , The standard deviation 0.036775518237946496\n",
      "Accuracy on test set  0.7337662337662337\n",
      "Area under ROC Curve  0.7019798210546354\n",
      "Train score for Gradient Boost 0.7425436277102062 , The standard deviation 0.024503808839446143\n",
      "Accuracy on test set  0.8246753246753247\n",
      "Area under ROC Curve  0.7550923281934133\n",
      "Train score for Random Forest 0.753939714436806 , The standard deviation 0.03173622785818051\n",
      "Accuracy on test set  0.7987012987012987\n",
      "Area under ROC Curve  0.7505235103750239\n"
     ]
    },
    {
     "name": "stderr",
     "output_type": "stream",
     "text": [
      "C:\\Users\\Michael\\Anaconda3.2\\lib\\site-packages\\sklearn\\svm\\base.py:196: FutureWarning: The default value of gamma will change from 'auto' to 'scale' in version 0.22 to account better for unscaled features. Set gamma explicitly to 'auto' or 'scale' to avoid this warning.\n",
      "  \"avoid this warning.\", FutureWarning)\n"
     ]
    }
   ],
   "source": [
    "#let use do our preparatory cv scores\n",
    "clfs = []\n",
    "print('5 fold cross-validation')\n",
    "for clf, label in zip([LG,SV,DT,BC,KN,AD,GB,RF],['Logistic Regression','Support Vector',\n",
    "                    'Decision Tree','Bagging Classifier','K Neighbors','Ada Boost','Gradient Boost','Random Forest']):\n",
    "    scores = cross_val_score(clf,x_train,y_train,cv=5,scoring='accuracy')\n",
    "    print('Train score for '+label+' '+str(scores.mean())+' , The standard deviation '+str(scores.std()))\n",
    "    md = clf.fit(x_train,y_train)\n",
    "    clfs.append(md)\n",
    "    fpr, tpr, _ = metrics.roc_curve(y_test,clf.predict(x_test))\n",
    "    print('Accuracy on test set ',metrics.accuracy_score(y_test, clf.predict(x_test)))\n",
    "    print('Area under ROC Curve ',metrics.auc(fpr, tpr))"
   ]
  },
  {
   "cell_type": "markdown",
   "metadata": {},
   "source": [
    "## So I choose RandomForest, bagging classifier,Gradient Boost"
   ]
  },
  {
   "cell_type": "code",
   "execution_count": 11,
   "metadata": {},
   "outputs": [
    {
     "name": "stdout",
     "output_type": "stream",
     "text": [
      "Ensemble five-fold cross-validation\n",
      "Train score for Ensemble Hard voting 0.7523532522474882 , The standard deviation 0.030189295848808546\n",
      "Accuracy on test set  0.8051948051948052\n",
      "Area under ROC Curve  0.7553778793070627\n",
      "Train score for Ensemble soft 0.757297726070862 , The standard deviation 0.024656376401023767\n",
      "Accuracy on test set  0.8181818181818182\n",
      "Area under ROC Curve  0.7749857224443175\n"
     ]
    }
   ],
   "source": [
    "#ensemble voting with Randomo foreest, Bagging Classififer, Gradient boost\n",
    "print('Ensemble five-fold cross-validation')\n",
    "EHV = EnsembleVoteClassifier([RF,BC,GB])\n",
    "ESV = EnsembleVoteClassifier([RF,BC,GB], voting='soft',weights=[1,1,1])\n",
    "\n",
    "for clf,label in zip([EHV,ESV],['Ensemble Hard voting', 'Ensemble soft']):\n",
    "    scores = cross_val_score(clf,x_train,y_train,cv=5,scoring='accuracy')\n",
    "    print('Train score for '+label+' '+str(scores.mean())+' , The standard deviation '+str(scores.std()))\n",
    "    md = clf.fit(x_train,y_train)\n",
    "    clfs.append(md)\n",
    "    fpr, tpr, _ = metrics.roc_curve(y_test,clf.predict(x_test))\n",
    "    print('Accuracy on test set ',metrics.accuracy_score(y_test, clf.predict(x_test)))\n",
    "    print('Area under ROC Curve ',metrics.auc(fpr, tpr))"
   ]
  },
  {
   "cell_type": "code",
   "execution_count": 12,
   "metadata": {},
   "outputs": [
    {
     "name": "stderr",
     "output_type": "stream",
     "text": [
      "C:\\Users\\Michael\\Anaconda3.2\\lib\\site-packages\\sklearn\\model_selection\\_split.py:598: FutureWarning: You should specify a value for 'n_splits' instead of relying on the default value. The default value will change from 3 to 5 in version 0.22.\n",
      "  warnings.warn(NSPLIT_WARNING, FutureWarning)\n"
     ]
    }
   ],
   "source": [
    "kfold = StratifiedKFold(random_state=2017)\n",
    "clfs_stacking = [RF,BC,GB]\n",
    "dataset_keep_train = np.zeros((x_train.shape[0],len(clfs_stacking)))\n",
    "dataset_keep_test = np.zeros((x_test.shape[0], len(clfs_stacking)))\n",
    "\n",
    "for i,clf in enumerate(clfs_stacking):\n",
    "    clf.fit(x_train, y_train)\n",
    "    dataset_keep_train[:,i] = clf.predict_proba(x_train)[:,1]\n",
    "    dataset_keep_test[:,i] = clf.predict_proba(x_test)[:,1]\n",
    "    "
   ]
  },
  {
   "cell_type": "code",
   "execution_count": 23,
   "metadata": {},
   "outputs": [
    {
     "data": {
      "text/plain": [
       "array([[0.79      , 0.8       , 0.44240051],\n",
       "       [0.77      , 0.78      , 0.46383936],\n",
       "       [0.84      , 0.92      , 0.52615668],\n",
       "       ...,\n",
       "       [0.02      , 0.03      , 0.19878364],\n",
       "       [0.72      , 0.68      , 0.30505067],\n",
       "       [0.1       , 0.07      , 0.23371258]])"
      ]
     },
     "execution_count": 23,
     "metadata": {},
     "output_type": "execute_result"
    }
   ],
   "source": [
    "dataset_keep_train"
   ]
  },
  {
   "cell_type": "code",
   "execution_count": 24,
   "metadata": {},
   "outputs": [
    {
     "data": {
      "text/plain": [
       "array([[0.31      , 0.24      , 0.35021368],\n",
       "       [0.78      , 0.84      , 0.52990937],\n",
       "       [0.7       , 0.74      , 0.55619087],\n",
       "       [0.7       , 0.74      , 0.62312107],\n",
       "       [0.81      , 0.87      , 0.52615668],\n",
       "       [0.07      , 0.06      , 0.16399653],\n",
       "       [0.05      , 0.03      , 0.18691553],\n",
       "       [0.16      , 0.16      , 0.19321764],\n",
       "       [0.12      , 0.11      , 0.19321764],\n",
       "       [0.13      , 0.06      , 0.16009354],\n",
       "       [0.43      , 0.25      , 0.46878042],\n",
       "       [0.09      , 0.02      , 0.15889199],\n",
       "       [0.12      , 0.09      , 0.19878364],\n",
       "       [0.08      , 0.1       , 0.2192618 ],\n",
       "       [0.08      , 0.02      , 0.20375669],\n",
       "       [0.18      , 0.05      , 0.19321764],\n",
       "       [0.02      , 0.02      , 0.19321764],\n",
       "       [0.31      , 0.33      , 0.45892   ],\n",
       "       [0.03      , 0.        , 0.16058825],\n",
       "       [0.01      , 0.01      , 0.16399653],\n",
       "       [0.61      , 0.77      , 0.58816903],\n",
       "       [0.66      , 0.62      , 0.50757051],\n",
       "       [0.49      , 0.54      , 0.44185633],\n",
       "       [0.04      , 0.05      , 0.19321764],\n",
       "       [0.74      , 0.66      , 0.45234173],\n",
       "       [0.4       , 0.41      , 0.38516755],\n",
       "       [0.15      , 0.05      , 0.22694333],\n",
       "       [0.18      , 0.16      , 0.26058674],\n",
       "       [0.39      , 0.32      , 0.34693876],\n",
       "       [0.29      , 0.14      , 0.28784586],\n",
       "       [0.17      , 0.16      , 0.30943831],\n",
       "       [0.42      , 0.61      , 0.34015022],\n",
       "       [0.        , 0.        , 0.16058825],\n",
       "       [0.35      , 0.38      , 0.363664  ],\n",
       "       [0.77      , 0.86      , 0.46502059],\n",
       "       [0.55      , 0.49      , 0.39892999],\n",
       "       [0.76      , 0.79      , 0.54350922],\n",
       "       [0.66      , 0.65      , 0.49318117],\n",
       "       [0.        , 0.        , 0.16058825],\n",
       "       [0.15      , 0.32      , 0.18691553],\n",
       "       [0.08      , 0.06      , 0.16399653],\n",
       "       [0.18      , 0.08      , 0.29195723],\n",
       "       [0.73      , 0.86      , 0.61419801],\n",
       "       [0.41      , 0.32      , 0.36227604],\n",
       "       [0.13      , 0.12      , 0.24656243],\n",
       "       [0.59      , 0.6       , 0.50757051],\n",
       "       [0.36      , 0.27      , 0.42916495],\n",
       "       [0.11      , 0.06      , 0.19321764],\n",
       "       [0.12      , 0.05      , 0.23867676],\n",
       "       [0.15      , 0.08      , 0.29266687],\n",
       "       [0.11      , 0.03      , 0.2151409 ],\n",
       "       [0.74      , 0.75      , 0.52615668],\n",
       "       [0.26      , 0.18      , 0.19321764],\n",
       "       [0.03      , 0.        , 0.16058825],\n",
       "       [0.1       , 0.03      , 0.1888064 ],\n",
       "       [0.09      , 0.07      , 0.29266687],\n",
       "       [0.2       , 0.08      , 0.284408  ],\n",
       "       [0.18      , 0.08      , 0.26058674],\n",
       "       [0.36      , 0.33      , 0.42283003],\n",
       "       [0.42      , 0.39      , 0.46396893],\n",
       "       [0.02      , 0.        , 0.18344041],\n",
       "       [0.45      , 0.41      , 0.46502059],\n",
       "       [0.26      , 0.17      , 0.19878364],\n",
       "       [0.23      , 0.28      , 0.29195723],\n",
       "       [0.29      , 0.2       , 0.29195723],\n",
       "       [0.54      , 0.53      , 0.47215215],\n",
       "       [0.1       , 0.02      , 0.23514814],\n",
       "       [0.29      , 0.08      , 0.25499195],\n",
       "       [0.21      , 0.09      , 0.2151409 ],\n",
       "       [0.63      , 0.51      , 0.5734417 ],\n",
       "       [0.75      , 0.69      , 0.5884623 ],\n",
       "       [0.08      , 0.12      , 0.24656243],\n",
       "       [0.01      , 0.01      , 0.16226594],\n",
       "       [0.75      , 0.59      , 0.5236847 ],\n",
       "       [0.79      , 0.8       , 0.65567315],\n",
       "       [0.32      , 0.29      , 0.28589523],\n",
       "       [0.71      , 0.79      , 0.33477626],\n",
       "       [0.15      , 0.13      , 0.2192618 ],\n",
       "       [0.        , 0.01      , 0.16058825],\n",
       "       [0.65      , 0.48      , 0.58370928],\n",
       "       [0.34      , 0.44      , 0.41842239],\n",
       "       [0.07      , 0.02      , 0.15690382],\n",
       "       [0.38      , 0.38      , 0.33224293],\n",
       "       [0.21      , 0.31      , 0.22979144],\n",
       "       [0.74      , 0.57      , 0.6433756 ],\n",
       "       [0.09      , 0.1       , 0.18691553],\n",
       "       [0.4       , 0.5       , 0.29436247],\n",
       "       [0.79      , 0.77      , 0.64672462],\n",
       "       [0.53      , 0.62      , 0.4655703 ],\n",
       "       [0.62      , 0.51      , 0.48192561],\n",
       "       [0.13      , 0.13      , 0.2579408 ],\n",
       "       [0.38      , 0.37      , 0.46878042],\n",
       "       [0.03      , 0.02      , 0.18344041],\n",
       "       [0.08      , 0.05      , 0.24794156],\n",
       "       [0.02      , 0.08      , 0.23087288],\n",
       "       [0.47      , 0.33      , 0.42899807],\n",
       "       [0.68      , 0.66      , 0.64363796],\n",
       "       [0.63      , 0.71      , 0.56489141],\n",
       "       [0.42      , 0.49      , 0.45120383],\n",
       "       [0.31      , 0.25      , 0.32249652],\n",
       "       [0.29      , 0.25      , 0.28130574],\n",
       "       [0.12      , 0.04      , 0.16226594],\n",
       "       [0.15      , 0.11      , 0.29266687],\n",
       "       [0.4       , 0.49      , 0.43646895],\n",
       "       [0.22      , 0.28      , 0.30868044],\n",
       "       [0.13      , 0.1       , 0.28845858],\n",
       "       [0.8       , 0.71      , 0.53197432],\n",
       "       [0.15      , 0.23      , 0.2579408 ],\n",
       "       [0.24      , 0.19      , 0.4172908 ],\n",
       "       [0.48      , 0.43      , 0.48763832],\n",
       "       [0.91      , 0.93      , 0.65567315],\n",
       "       [0.55      , 0.61      , 0.49310508],\n",
       "       [0.08      , 0.05      , 0.16009354],\n",
       "       [0.14      , 0.14      , 0.24656243],\n",
       "       [0.45      , 0.51      , 0.37274334],\n",
       "       [0.03      , 0.        , 0.16058825],\n",
       "       [0.83      , 0.82      , 0.62322568],\n",
       "       [0.35      , 0.43      , 0.24656243],\n",
       "       [0.02      , 0.        , 0.16058825],\n",
       "       [0.73      , 0.61      , 0.64111753],\n",
       "       [0.        , 0.02      , 0.18691553],\n",
       "       [0.76      , 0.9       , 0.65754268],\n",
       "       [0.44      , 0.47      , 0.30666295],\n",
       "       [0.04      , 0.08      , 0.20859443],\n",
       "       [0.24      , 0.05      , 0.25499195],\n",
       "       [0.62      , 0.7       , 0.56937615],\n",
       "       [0.28      , 0.36      , 0.32249652],\n",
       "       [0.42      , 0.28      , 0.44185633],\n",
       "       [0.24      , 0.23      , 0.34015022],\n",
       "       [0.1       , 0.04      , 0.2515255 ],\n",
       "       [0.22      , 0.38      , 0.30359521],\n",
       "       [0.06      , 0.04      , 0.16058825],\n",
       "       [0.77      , 0.92      , 0.63972718],\n",
       "       [0.68      , 0.6       , 0.50757051],\n",
       "       [0.7       , 0.78      , 0.64315279],\n",
       "       [0.86      , 0.84      , 0.63465093],\n",
       "       [0.33      , 0.42      , 0.19878364],\n",
       "       [0.25      , 0.19      , 0.2192618 ],\n",
       "       [0.66      , 0.81      , 0.45493519],\n",
       "       [0.43      , 0.4       , 0.25967083],\n",
       "       [0.84      , 0.98      , 0.65226561],\n",
       "       [0.5       , 0.69      , 0.45120383],\n",
       "       [0.3       , 0.19      , 0.34979027],\n",
       "       [0.16      , 0.15      , 0.20962053],\n",
       "       [0.75      , 0.8       , 0.62003517],\n",
       "       [0.5       , 0.58      , 0.4917759 ],\n",
       "       [0.25      , 0.28      , 0.19321764],\n",
       "       [0.12      , 0.16      , 0.2515255 ],\n",
       "       [0.25      , 0.48      , 0.31840229],\n",
       "       [0.13      , 0.04      , 0.22694333],\n",
       "       [0.        , 0.01      , 0.16226594],\n",
       "       [0.72      , 0.58      , 0.60978942],\n",
       "       [0.38      , 0.25      , 0.29266687],\n",
       "       [0.25      , 0.24      , 0.34015022]])"
      ]
     },
     "execution_count": 24,
     "metadata": {},
     "output_type": "execute_result"
    }
   ],
   "source": [
    "dataset_keep_test"
   ]
  },
  {
   "cell_type": "code",
   "execution_count": 13,
   "metadata": {},
   "outputs": [
    {
     "name": "stdout",
     "output_type": "stream",
     "text": [
      "Train score for stacking1.0 , The standard deviation 0.0\n",
      "Accuracy on test set  0.8116883116883117\n",
      "Area under ROC Curve  0.7602322482391015\n"
     ]
    }
   ],
   "source": [
    "clf_gb_new = GradientBoostingClassifier(learning_rate=0.01,random_state=2017)\n",
    "clf_gb_new.fit(dataset_keep_train,y_train)\n",
    "scores = cross_val_score(clf_gb_new,dataset_keep_train,y_train,cv=kfold,scoring='accuracy')\n",
    "y_preds = clf_gb_new.predict(dataset_keep_test)\n",
    "print('Train score for stacking'+str(scores.mean())+' , The standard deviation '+str(scores.std()))\n",
    "fpr, tpr, _ = metrics.roc_curve(y_test,y_preds)\n",
    "print('Accuracy on test set ',metrics.accuracy_score(y_test, y_preds))\n",
    "print('Area under ROC Curve ',metrics.auc(fpr, tpr))\n"
   ]
  },
  {
   "cell_type": "code",
   "execution_count": 18,
   "metadata": {
    "scrolled": true
   },
   "outputs": [
    {
     "name": "stderr",
     "output_type": "stream",
     "text": [
      "C:\\Users\\Michael\\Anaconda3.2\\lib\\site-packages\\sklearn\\ensemble\\forest.py:248: FutureWarning: The default value of n_estimators will change from 10 in version 0.20 to 100 in 0.22.\n",
      "  \"10 in version 0.20 to 100 in 0.22.\", FutureWarning)\n"
     ]
    },
    {
     "name": "stdout",
     "output_type": "stream",
     "text": [
      "Best Parameters {'criterion': 'entropy', 'max_depth': 9, 'max_features': 'log2', 'n_estimators': 420}\n",
      "Scores on Train CV  0.7735738308268291\n",
      "Accuracy on testset  0.7987012987012987\n"
     ]
    }
   ],
   "source": [
    "clf_rf_new = RandomForestClassifier(random_state=2017).fit(x_train, y_train)\n",
    "rf_params = {'n_estimators':[400,420,440,460,480,500],\n",
    "            'criterion':['gini','entropy'],\n",
    "            'max_features':[None, 'log2','sqrt','auto'],\n",
    "            'max_depth':[1,3,5,7,9]}\n",
    "grid = GridSearchCV(clf_rf_new,rf_params,scoring='accuracy',n_jobs=-1,cv=kfold)\n",
    "grid.fit(x_train, y_train)\n",
    "scores = cross_val_score(grid.best_estimator_,x_train,y_train,cv=kfold,scoring='accuracy')\n",
    "print('Best Parameters', grid.best_params_)\n",
    "print('Scores on Train CV ',scores.mean())\n",
    "print('Accuracy on testset ', metrics.accuracy_score(y_test,grid.best_estimator_.predict(x_test)))"
   ]
  },
  {
   "cell_type": "code",
   "execution_count": 20,
   "metadata": {},
   "outputs": [
    {
     "name": "stdout",
     "output_type": "stream",
     "text": [
      "Best Parameters {'n_estimators': 413, 'max_features': 'log2', 'max_depth': 7, 'criterion': 'gini'}\n",
      "Scores on Train CV  0.7523954565645029\n",
      "Accuracy on testset  0.9675324675324676\n"
     ]
    }
   ],
   "source": [
    "#writing code for Randomized search\n",
    "from sklearn.model_selection import RandomizedSearchCV\n",
    "clf_rf_new = RandomForestClassifier(random_state=2017,n_estimators = 100).fit(x_train, y_train)\n",
    "rf_params = {'n_estimators':range(400,420),\n",
    "            'criterion':['gini','entropy'],\n",
    "            'max_features':[None, 'log2','sqrt','auto'],\n",
    "            'max_depth':[1,3,5,7,9]}\n",
    "random_search = RandomizedSearchCV(clf_rf_new,rf_params,n_iter=50,scoring='accuracy',n_jobs=-1,cv=kfold)\n",
    "random_search.fit(x,y)\n",
    "scores = cross_val_score(random_search.best_estimator_,x_train,y_train,cv=kfold,scoring='accuracy')\n",
    "print('Best Parameters', random_search.best_params_)\n",
    "print('Scores on Train CV ',scores.mean())\n",
    "print('Accuracy on testset ', metrics.accuracy_score(y_test,random_search.best_estimator_.predict(x_test)))"
   ]
  },
  {
   "cell_type": "code",
   "execution_count": 1,
   "metadata": {},
   "outputs": [],
   "source": [
    "import glob"
   ]
  },
  {
   "cell_type": "code",
   "execution_count": 8,
   "metadata": {},
   "outputs": [
    {
     "data": {
      "text/html": [
       "<div>\n",
       "<style scoped>\n",
       "    .dataframe tbody tr th:only-of-type {\n",
       "        vertical-align: middle;\n",
       "    }\n",
       "\n",
       "    .dataframe tbody tr th {\n",
       "        vertical-align: top;\n",
       "    }\n",
       "\n",
       "    .dataframe thead th {\n",
       "        text-align: right;\n",
       "    }\n",
       "</style>\n",
       "<table border=\"1\" class=\"dataframe\">\n",
       "  <thead>\n",
       "    <tr style=\"text-align: right;\">\n",
       "      <th></th>\n",
       "      <th>Hours_Studied</th>\n",
       "      <th>Test_Grade</th>\n",
       "    </tr>\n",
       "  </thead>\n",
       "  <tbody>\n",
       "    <tr>\n",
       "      <th>3</th>\n",
       "      <td>3.0</td>\n",
       "      <td>23</td>\n",
       "    </tr>\n",
       "    <tr>\n",
       "      <th>9</th>\n",
       "      <td>9.0</td>\n",
       "      <td>76</td>\n",
       "    </tr>\n",
       "    <tr>\n",
       "      <th>11</th>\n",
       "      <td>11.0</td>\n",
       "      <td>89</td>\n",
       "    </tr>\n",
       "    <tr>\n",
       "      <th>12</th>\n",
       "      <td>12.0</td>\n",
       "      <td>90</td>\n",
       "    </tr>\n",
       "    <tr>\n",
       "      <th>2</th>\n",
       "      <td>2.0</td>\n",
       "      <td>22</td>\n",
       "    </tr>\n",
       "  </tbody>\n",
       "</table>\n",
       "</div>"
      ],
      "text/plain": [
       "    Hours_Studied  Test_Grade\n",
       "3             3.0          23\n",
       "9             9.0          76\n",
       "11           11.0          89\n",
       "12           12.0          90\n",
       "2             2.0          22"
      ]
     },
     "execution_count": 8,
     "metadata": {},
     "output_type": "execute_result"
    }
   ],
   "source": [
    "grade_data_2.sample(5)"
   ]
  },
  {
   "cell_type": "code",
   "execution_count": 16,
   "metadata": {},
   "outputs": [
    {
     "name": "stdout",
     "output_type": "stream",
     "text": [
      "The R-Squared score for  1  is  0.9503677766997879\n",
      "The R-Squared score for  2  is  0.9608726568678714\n",
      "The R-Squared score for  3  is  0.9938323120374665\n",
      "The R-Squared score for  4  is  0.9955000184096712\n",
      "The R-Squared score for  5  is  0.9956204913897356\n"
     ]
    },
    {
     "data": {
      "image/png": "[encoded data removed]",
      "text/plain": [
       "<Figure size 432x288 with 1 Axes>"
      ]
     },
     "metadata": {},
     "output_type": "display_data"
    }
   ],
   "source": [
    "X = grade_data_2['Hours_Studied']\n",
    "y = grade_data_2['Test_Grade']\n",
    "lr = LinearRegression()\n",
    "for deg in [1,2,3,4,5]:\n",
    "    lr.fit(np.vander(X, deg + 1),y)\n",
    "    y_pred = lr.predict(np.vander(X, deg + 1))\n",
    "    plt.scatter(X,y)\n",
    "    plt.plot(X,y_pred,label='The regressor in ' + str(deg))\n",
    "    plt.legend(loc='best')\n",
    "    print('The R-Squared score for ',deg, ' is ', r2_score(y,y_pred))\n",
    "    "
   ]
  },
  {
   "cell_type": "code",
   "execution_count": 23,
   "metadata": {},
   "outputs": [
    {
     "name": "stdout",
     "output_type": "stream",
     "text": [
      "The R-Squared error becomes  0.9955000184096712\n"
     ]
    },
    {
     "data": {
      "image/png": "[encoded data removed]",
      "text/plain": [
       "<Figure size 432x288 with 1 Axes>"
      ]
     },
     "metadata": {},
     "output_type": "display_data"
    }
   ],
   "source": [
    "model = make_pipeline(PolynomialFeatures(degree=4), lr)\n",
    "model.fit(X[:,np.newaxis],y)\n",
    "plt.scatter(X,y,label='Original')\n",
    "plt.plot(X[:,np.newaxis], model.predict(X[:,np.newaxis]), label='Degree 4')\n",
    "print('The R-Squared error becomes ', r2_score(y,model.predict(X[:,np.newaxis])))"
   ]
  },
  {
   "cell_type": "markdown",
   "metadata": {},
   "source": [
    "### When dealing with Multi-Collinearity VIF(Variation Inflation Factor) is used to detect largely correlated independent variables\n",
    "\n",
    "##### A value of 10 and above is usually held as a strong indication of multicollinearity, a VIF value = 1 indicates no multicollinearity, a VIF value > 1 <= 5, states moderate collinearity"
   ]
  },
  {
   "cell_type": "code",
   "execution_count": 39,
   "metadata": {},
   "outputs": [
    {
     "data": {
      "text/html": [
       "<div>\n",
       "<style scoped>\n",
       "    .dataframe tbody tr th:only-of-type {\n",
       "        vertical-align: middle;\n",
       "    }\n",
       "\n",
       "    .dataframe tbody tr th {\n",
       "        vertical-align: top;\n",
       "    }\n",
       "\n",
       "    .dataframe thead th {\n",
       "        text-align: right;\n",
       "    }\n",
       "</style>\n",
       "<table border=\"1\" class=\"dataframe\">\n",
       "  <thead>\n",
       "    <tr style=\"text-align: right;\">\n",
       "      <th></th>\n",
       "      <th>price</th>\n",
       "      <th>lotsize</th>\n",
       "      <th>bedrooms</th>\n",
       "      <th>bathrms</th>\n",
       "      <th>stories</th>\n",
       "      <th>driveway</th>\n",
       "      <th>recroom</th>\n",
       "      <th>fullbase</th>\n",
       "      <th>gashw</th>\n",
       "      <th>airco</th>\n",
       "      <th>garagepl</th>\n",
       "      <th>prefarea</th>\n",
       "    </tr>\n",
       "  </thead>\n",
       "  <tbody>\n",
       "    <tr>\n",
       "      <th>0</th>\n",
       "      <td>42000.0</td>\n",
       "      <td>5850</td>\n",
       "      <td>3</td>\n",
       "      <td>1</td>\n",
       "      <td>two</td>\n",
       "      <td>yes</td>\n",
       "      <td>no</td>\n",
       "      <td>yes</td>\n",
       "      <td>no</td>\n",
       "      <td>no</td>\n",
       "      <td>1</td>\n",
       "      <td>no</td>\n",
       "    </tr>\n",
       "    <tr>\n",
       "      <th>1</th>\n",
       "      <td>38500.0</td>\n",
       "      <td>4000</td>\n",
       "      <td>2</td>\n",
       "      <td>1</td>\n",
       "      <td>one</td>\n",
       "      <td>yes</td>\n",
       "      <td>no</td>\n",
       "      <td>no</td>\n",
       "      <td>no</td>\n",
       "      <td>no</td>\n",
       "      <td>0</td>\n",
       "      <td>no</td>\n",
       "    </tr>\n",
       "    <tr>\n",
       "      <th>2</th>\n",
       "      <td>49500.0</td>\n",
       "      <td>3060</td>\n",
       "      <td>3</td>\n",
       "      <td>1</td>\n",
       "      <td>one</td>\n",
       "      <td>yes</td>\n",
       "      <td>no</td>\n",
       "      <td>no</td>\n",
       "      <td>no</td>\n",
       "      <td>no</td>\n",
       "      <td>0</td>\n",
       "      <td>no</td>\n",
       "    </tr>\n",
       "    <tr>\n",
       "      <th>3</th>\n",
       "      <td>60500.0</td>\n",
       "      <td>6650</td>\n",
       "      <td>3</td>\n",
       "      <td>1</td>\n",
       "      <td>two</td>\n",
       "      <td>yes</td>\n",
       "      <td>yes</td>\n",
       "      <td>no</td>\n",
       "      <td>no</td>\n",
       "      <td>no</td>\n",
       "      <td>0</td>\n",
       "      <td>no</td>\n",
       "    </tr>\n",
       "    <tr>\n",
       "      <th>4</th>\n",
       "      <td>61000.0</td>\n",
       "      <td>6360</td>\n",
       "      <td>2</td>\n",
       "      <td>1</td>\n",
       "      <td>one</td>\n",
       "      <td>yes</td>\n",
       "      <td>no</td>\n",
       "      <td>no</td>\n",
       "      <td>no</td>\n",
       "      <td>no</td>\n",
       "      <td>0</td>\n",
       "      <td>no</td>\n",
       "    </tr>\n",
       "  </tbody>\n",
       "</table>\n",
       "</div>"
      ],
      "text/plain": [
       "     price  lotsize  bedrooms  bathrms stories driveway recroom fullbase  \\\n",
       "0  42000.0     5850         3        1     two      yes      no      yes   \n",
       "1  38500.0     4000         2        1     one      yes      no       no   \n",
       "2  49500.0     3060         3        1     one      yes      no       no   \n",
       "3  60500.0     6650         3        1     two      yes     yes       no   \n",
       "4  61000.0     6360         2        1     one      yes      no       no   \n",
       "\n",
       "  gashw airco  garagepl prefarea  \n",
       "0    no    no         1       no  \n",
       "1    no    no         0       no  \n",
       "2    no    no         0       no  \n",
       "3    no    no         0       no  \n",
       "4    no    no         0       no  "
      ]
     },
     "execution_count": 39,
     "metadata": {},
     "output_type": "execute_result"
    }
   ],
   "source": [
    "house_data = pd.read_csv('Housing_Modified.csv')\n",
    "house_data.head()"
   ]
  },
  {
   "cell_type": "code",
   "execution_count": 28,
   "metadata": {},
   "outputs": [
    {
     "name": "stdout",
     "output_type": "stream",
     "text": [
      "<class 'pandas.core.frame.DataFrame'>\n",
      "RangeIndex: 546 entries, 0 to 545\n",
      "Data columns (total 12 columns):\n",
      "price       546 non-null float64\n",
      "lotsize     546 non-null int64\n",
      "bedrooms    546 non-null int64\n",
      "bathrms     546 non-null int64\n",
      "stories     546 non-null object\n",
      "driveway    546 non-null object\n",
      "recroom     546 non-null object\n",
      "fullbase    546 non-null object\n",
      "gashw       546 non-null object\n",
      "airco       546 non-null object\n",
      "garagepl    546 non-null int64\n",
      "prefarea    546 non-null object\n",
      "dtypes: float64(1), int64(4), object(7)\n",
      "memory usage: 51.3+ KB\n"
     ]
    }
   ],
   "source": [
    "house_data.info()"
   ]
  },
  {
   "cell_type": "code",
   "execution_count": 40,
   "metadata": {},
   "outputs": [
    {
     "data": {
      "text/plain": [
       "array(['two', 'one', 'three', 'four'], dtype=object)"
      ]
     },
     "execution_count": 40,
     "metadata": {},
     "output_type": "execute_result"
    }
   ],
   "source": [
    "house_data['stories'].unique()"
   ]
  },
  {
   "cell_type": "code",
   "execution_count": 41,
   "metadata": {},
   "outputs": [],
   "source": [
    "columns_dict = {}\n",
    "for i in ['stories', 'driveway','recroom','fullbase','gashw','airco','prefarea']:\n",
    "    columns_dict[i] = house_data[i].unique()"
   ]
  },
  {
   "cell_type": "code",
   "execution_count": 42,
   "metadata": {},
   "outputs": [
    {
     "data": {
      "text/plain": [
       "{'stories': array(['two', 'one', 'three', 'four'], dtype=object),\n",
       " 'driveway': array(['yes', 'no'], dtype=object),\n",
       " 'recroom': array(['no', 'yes'], dtype=object),\n",
       " 'fullbase': array(['yes', 'no'], dtype=object),\n",
       " 'gashw': array(['no', 'yes'], dtype=object),\n",
       " 'airco': array(['no', 'yes'], dtype=object),\n",
       " 'prefarea': array(['no', 'yes'], dtype=object)}"
      ]
     },
     "execution_count": 42,
     "metadata": {},
     "output_type": "execute_result"
    }
   ],
   "source": [
    "columns_dict"
   ]
  },
  {
   "cell_type": "code",
   "execution_count": 43,
   "metadata": {},
   "outputs": [],
   "source": [
    "lb = LabelBinarizer()\n",
    "for i in ['driveway','recroom','fullbase','gashw','airco','prefarea']:\n",
    "    house_data[i] = lb.fit_transform(house_data[i])"
   ]
  },
  {
   "cell_type": "code",
   "execution_count": 44,
   "metadata": {},
   "outputs": [
    {
     "name": "stdout",
     "output_type": "stream",
     "text": [
      "<class 'pandas.core.frame.DataFrame'>\n",
      "RangeIndex: 546 entries, 0 to 545\n",
      "Data columns (total 12 columns):\n",
      "price       546 non-null float64\n",
      "lotsize     546 non-null int64\n",
      "bedrooms    546 non-null int64\n",
      "bathrms     546 non-null int64\n",
      "stories     546 non-null object\n",
      "driveway    546 non-null int32\n",
      "recroom     546 non-null int32\n",
      "fullbase    546 non-null int32\n",
      "gashw       546 non-null int32\n",
      "airco       546 non-null int32\n",
      "garagepl    546 non-null int64\n",
      "prefarea    546 non-null int32\n",
      "dtypes: float64(1), int32(6), int64(4), object(1)\n",
      "memory usage: 38.5+ KB\n"
     ]
    }
   ],
   "source": [
    "house_data.info()"
   ]
  },
  {
   "cell_type": "code",
   "execution_count": 45,
   "metadata": {},
   "outputs": [
    {
     "data": {
      "text/html": [
       "<div>\n",
       "<style scoped>\n",
       "    .dataframe tbody tr th:only-of-type {\n",
       "        vertical-align: middle;\n",
       "    }\n",
       "\n",
       "    .dataframe tbody tr th {\n",
       "        vertical-align: top;\n",
       "    }\n",
       "\n",
       "    .dataframe thead th {\n",
       "        text-align: right;\n",
       "    }\n",
       "</style>\n",
       "<table border=\"1\" class=\"dataframe\">\n",
       "  <thead>\n",
       "    <tr style=\"text-align: right;\">\n",
       "      <th></th>\n",
       "      <th>price</th>\n",
       "      <th>lotsize</th>\n",
       "      <th>bedrooms</th>\n",
       "      <th>bathrms</th>\n",
       "      <th>stories</th>\n",
       "      <th>driveway</th>\n",
       "      <th>recroom</th>\n",
       "      <th>fullbase</th>\n",
       "      <th>gashw</th>\n",
       "      <th>airco</th>\n",
       "      <th>garagepl</th>\n",
       "      <th>prefarea</th>\n",
       "    </tr>\n",
       "  </thead>\n",
       "  <tbody>\n",
       "    <tr>\n",
       "      <th>0</th>\n",
       "      <td>42000.0</td>\n",
       "      <td>5850</td>\n",
       "      <td>3</td>\n",
       "      <td>1</td>\n",
       "      <td>two</td>\n",
       "      <td>1</td>\n",
       "      <td>0</td>\n",
       "      <td>1</td>\n",
       "      <td>0</td>\n",
       "      <td>0</td>\n",
       "      <td>1</td>\n",
       "      <td>0</td>\n",
       "    </tr>\n",
       "    <tr>\n",
       "      <th>1</th>\n",
       "      <td>38500.0</td>\n",
       "      <td>4000</td>\n",
       "      <td>2</td>\n",
       "      <td>1</td>\n",
       "      <td>one</td>\n",
       "      <td>1</td>\n",
       "      <td>0</td>\n",
       "      <td>0</td>\n",
       "      <td>0</td>\n",
       "      <td>0</td>\n",
       "      <td>0</td>\n",
       "      <td>0</td>\n",
       "    </tr>\n",
       "    <tr>\n",
       "      <th>2</th>\n",
       "      <td>49500.0</td>\n",
       "      <td>3060</td>\n",
       "      <td>3</td>\n",
       "      <td>1</td>\n",
       "      <td>one</td>\n",
       "      <td>1</td>\n",
       "      <td>0</td>\n",
       "      <td>0</td>\n",
       "      <td>0</td>\n",
       "      <td>0</td>\n",
       "      <td>0</td>\n",
       "      <td>0</td>\n",
       "    </tr>\n",
       "    <tr>\n",
       "      <th>3</th>\n",
       "      <td>60500.0</td>\n",
       "      <td>6650</td>\n",
       "      <td>3</td>\n",
       "      <td>1</td>\n",
       "      <td>two</td>\n",
       "      <td>1</td>\n",
       "      <td>1</td>\n",
       "      <td>0</td>\n",
       "      <td>0</td>\n",
       "      <td>0</td>\n",
       "      <td>0</td>\n",
       "      <td>0</td>\n",
       "    </tr>\n",
       "    <tr>\n",
       "      <th>4</th>\n",
       "      <td>61000.0</td>\n",
       "      <td>6360</td>\n",
       "      <td>2</td>\n",
       "      <td>1</td>\n",
       "      <td>one</td>\n",
       "      <td>1</td>\n",
       "      <td>0</td>\n",
       "      <td>0</td>\n",
       "      <td>0</td>\n",
       "      <td>0</td>\n",
       "      <td>0</td>\n",
       "      <td>0</td>\n",
       "    </tr>\n",
       "  </tbody>\n",
       "</table>\n",
       "</div>"
      ],
      "text/plain": [
       "     price  lotsize  bedrooms  bathrms stories  driveway  recroom  fullbase  \\\n",
       "0  42000.0     5850         3        1     two         1        0         1   \n",
       "1  38500.0     4000         2        1     one         1        0         0   \n",
       "2  49500.0     3060         3        1     one         1        0         0   \n",
       "3  60500.0     6650         3        1     two         1        1         0   \n",
       "4  61000.0     6360         2        1     one         1        0         0   \n",
       "\n",
       "   gashw  airco  garagepl  prefarea  \n",
       "0      0      0         1         0  \n",
       "1      0      0         0         0  \n",
       "2      0      0         0         0  \n",
       "3      0      0         0         0  \n",
       "4      0      0         0         0  "
      ]
     },
     "execution_count": 45,
     "metadata": {},
     "output_type": "execute_result"
    }
   ],
   "source": [
    "house_data.head()"
   ]
  },
  {
   "cell_type": "code",
   "execution_count": 47,
   "metadata": {},
   "outputs": [],
   "source": [
    "house_data_stores = pd.get_dummies(house_data['stories'], drop_first= True)\n",
    "house_data = pd.concat([house_data, house_data_stores], axis=1)"
   ]
  },
  {
   "cell_type": "code",
   "execution_count": 49,
   "metadata": {},
   "outputs": [],
   "source": [
    "house_data.drop('stories',axis=1,inplace=True)"
   ]
  },
  {
   "cell_type": "code",
   "execution_count": 50,
   "metadata": {},
   "outputs": [
    {
     "data": {
      "text/html": [
       "<div>\n",
       "<style scoped>\n",
       "    .dataframe tbody tr th:only-of-type {\n",
       "        vertical-align: middle;\n",
       "    }\n",
       "\n",
       "    .dataframe tbody tr th {\n",
       "        vertical-align: top;\n",
       "    }\n",
       "\n",
       "    .dataframe thead th {\n",
       "        text-align: right;\n",
       "    }\n",
       "</style>\n",
       "<table border=\"1\" class=\"dataframe\">\n",
       "  <thead>\n",
       "    <tr style=\"text-align: right;\">\n",
       "      <th></th>\n",
       "      <th>price</th>\n",
       "      <th>lotsize</th>\n",
       "      <th>bedrooms</th>\n",
       "      <th>bathrms</th>\n",
       "      <th>driveway</th>\n",
       "      <th>recroom</th>\n",
       "      <th>fullbase</th>\n",
       "      <th>gashw</th>\n",
       "      <th>airco</th>\n",
       "      <th>garagepl</th>\n",
       "      <th>prefarea</th>\n",
       "      <th>one</th>\n",
       "      <th>three</th>\n",
       "      <th>two</th>\n",
       "    </tr>\n",
       "  </thead>\n",
       "  <tbody>\n",
       "    <tr>\n",
       "      <th>0</th>\n",
       "      <td>42000.0</td>\n",
       "      <td>5850</td>\n",
       "      <td>3</td>\n",
       "      <td>1</td>\n",
       "      <td>1</td>\n",
       "      <td>0</td>\n",
       "      <td>1</td>\n",
       "      <td>0</td>\n",
       "      <td>0</td>\n",
       "      <td>1</td>\n",
       "      <td>0</td>\n",
       "      <td>0</td>\n",
       "      <td>0</td>\n",
       "      <td>1</td>\n",
       "    </tr>\n",
       "    <tr>\n",
       "      <th>1</th>\n",
       "      <td>38500.0</td>\n",
       "      <td>4000</td>\n",
       "      <td>2</td>\n",
       "      <td>1</td>\n",
       "      <td>1</td>\n",
       "      <td>0</td>\n",
       "      <td>0</td>\n",
       "      <td>0</td>\n",
       "      <td>0</td>\n",
       "      <td>0</td>\n",
       "      <td>0</td>\n",
       "      <td>1</td>\n",
       "      <td>0</td>\n",
       "      <td>0</td>\n",
       "    </tr>\n",
       "    <tr>\n",
       "      <th>2</th>\n",
       "      <td>49500.0</td>\n",
       "      <td>3060</td>\n",
       "      <td>3</td>\n",
       "      <td>1</td>\n",
       "      <td>1</td>\n",
       "      <td>0</td>\n",
       "      <td>0</td>\n",
       "      <td>0</td>\n",
       "      <td>0</td>\n",
       "      <td>0</td>\n",
       "      <td>0</td>\n",
       "      <td>1</td>\n",
       "      <td>0</td>\n",
       "      <td>0</td>\n",
       "    </tr>\n",
       "    <tr>\n",
       "      <th>3</th>\n",
       "      <td>60500.0</td>\n",
       "      <td>6650</td>\n",
       "      <td>3</td>\n",
       "      <td>1</td>\n",
       "      <td>1</td>\n",
       "      <td>1</td>\n",
       "      <td>0</td>\n",
       "      <td>0</td>\n",
       "      <td>0</td>\n",
       "      <td>0</td>\n",
       "      <td>0</td>\n",
       "      <td>0</td>\n",
       "      <td>0</td>\n",
       "      <td>1</td>\n",
       "    </tr>\n",
       "    <tr>\n",
       "      <th>4</th>\n",
       "      <td>61000.0</td>\n",
       "      <td>6360</td>\n",
       "      <td>2</td>\n",
       "      <td>1</td>\n",
       "      <td>1</td>\n",
       "      <td>0</td>\n",
       "      <td>0</td>\n",
       "      <td>0</td>\n",
       "      <td>0</td>\n",
       "      <td>0</td>\n",
       "      <td>0</td>\n",
       "      <td>1</td>\n",
       "      <td>0</td>\n",
       "      <td>0</td>\n",
       "    </tr>\n",
       "  </tbody>\n",
       "</table>\n",
       "</div>"
      ],
      "text/plain": [
       "     price  lotsize  bedrooms  bathrms  driveway  recroom  fullbase  gashw  \\\n",
       "0  42000.0     5850         3        1         1        0         1      0   \n",
       "1  38500.0     4000         2        1         1        0         0      0   \n",
       "2  49500.0     3060         3        1         1        0         0      0   \n",
       "3  60500.0     6650         3        1         1        1         0      0   \n",
       "4  61000.0     6360         2        1         1        0         0      0   \n",
       "\n",
       "   airco  garagepl  prefarea  one  three  two  \n",
       "0      0         1         0    0      0    1  \n",
       "1      0         0         0    1      0    0  \n",
       "2      0         0         0    1      0    0  \n",
       "3      0         0         0    0      0    1  \n",
       "4      0         0         0    1      0    0  "
      ]
     },
     "execution_count": 50,
     "metadata": {},
     "output_type": "execute_result"
    }
   ],
   "source": [
    "house_data.head()"
   ]
  },
  {
   "cell_type": "code",
   "execution_count": 51,
   "metadata": {},
   "outputs": [
    {
     "data": {
      "text/html": [
       "<div>\n",
       "<style scoped>\n",
       "    .dataframe tbody tr th:only-of-type {\n",
       "        vertical-align: middle;\n",
       "    }\n",
       "\n",
       "    .dataframe tbody tr th {\n",
       "        vertical-align: top;\n",
       "    }\n",
       "\n",
       "    .dataframe thead th {\n",
       "        text-align: right;\n",
       "    }\n",
       "</style>\n",
       "<table border=\"1\" class=\"dataframe\">\n",
       "  <thead>\n",
       "    <tr style=\"text-align: right;\">\n",
       "      <th></th>\n",
       "      <th>price</th>\n",
       "      <th>lotsize</th>\n",
       "      <th>bedrooms</th>\n",
       "      <th>bathrms</th>\n",
       "      <th>driveway</th>\n",
       "      <th>recroom</th>\n",
       "      <th>fullbase</th>\n",
       "      <th>gashw</th>\n",
       "      <th>airco</th>\n",
       "      <th>garagepl</th>\n",
       "      <th>prefarea</th>\n",
       "      <th>one</th>\n",
       "      <th>three</th>\n",
       "      <th>two</th>\n",
       "    </tr>\n",
       "  </thead>\n",
       "  <tbody>\n",
       "    <tr>\n",
       "      <th>price</th>\n",
       "      <td>1.000000</td>\n",
       "      <td>0.535796</td>\n",
       "      <td>0.366447</td>\n",
       "      <td>0.516719</td>\n",
       "      <td>0.297167</td>\n",
       "      <td>0.254960</td>\n",
       "      <td>0.186218</td>\n",
       "      <td>0.092837</td>\n",
       "      <td>0.453347</td>\n",
       "      <td>0.383302</td>\n",
       "      <td>0.329074</td>\n",
       "      <td>-0.270058</td>\n",
       "      <td>0.138254</td>\n",
       "      <td>-0.002089</td>\n",
       "    </tr>\n",
       "    <tr>\n",
       "      <th>lotsize</th>\n",
       "      <td>0.535796</td>\n",
       "      <td>1.000000</td>\n",
       "      <td>0.151851</td>\n",
       "      <td>0.193833</td>\n",
       "      <td>0.288778</td>\n",
       "      <td>0.140327</td>\n",
       "      <td>0.047487</td>\n",
       "      <td>-0.009201</td>\n",
       "      <td>0.221765</td>\n",
       "      <td>0.352872</td>\n",
       "      <td>0.234782</td>\n",
       "      <td>0.054348</td>\n",
       "      <td>0.020567</td>\n",
       "      <td>-0.159612</td>\n",
       "    </tr>\n",
       "    <tr>\n",
       "      <th>bedrooms</th>\n",
       "      <td>0.366447</td>\n",
       "      <td>0.151851</td>\n",
       "      <td>1.000000</td>\n",
       "      <td>0.373769</td>\n",
       "      <td>-0.011996</td>\n",
       "      <td>0.080492</td>\n",
       "      <td>0.097201</td>\n",
       "      <td>0.046028</td>\n",
       "      <td>0.160412</td>\n",
       "      <td>0.139117</td>\n",
       "      <td>0.078953</td>\n",
       "      <td>-0.509974</td>\n",
       "      <td>0.099150</td>\n",
       "      <td>0.377424</td>\n",
       "    </tr>\n",
       "    <tr>\n",
       "      <th>bathrms</th>\n",
       "      <td>0.516719</td>\n",
       "      <td>0.193833</td>\n",
       "      <td>0.373769</td>\n",
       "      <td>1.000000</td>\n",
       "      <td>0.041955</td>\n",
       "      <td>0.126892</td>\n",
       "      <td>0.102791</td>\n",
       "      <td>0.067365</td>\n",
       "      <td>0.184955</td>\n",
       "      <td>0.178178</td>\n",
       "      <td>0.064013</td>\n",
       "      <td>-0.250784</td>\n",
       "      <td>0.036027</td>\n",
       "      <td>0.080982</td>\n",
       "    </tr>\n",
       "    <tr>\n",
       "      <th>driveway</th>\n",
       "      <td>0.297167</td>\n",
       "      <td>0.288778</td>\n",
       "      <td>-0.011996</td>\n",
       "      <td>0.041955</td>\n",
       "      <td>1.000000</td>\n",
       "      <td>0.091959</td>\n",
       "      <td>0.043428</td>\n",
       "      <td>-0.011942</td>\n",
       "      <td>0.106290</td>\n",
       "      <td>0.203682</td>\n",
       "      <td>0.199378</td>\n",
       "      <td>-0.053249</td>\n",
       "      <td>0.073533</td>\n",
       "      <td>-0.047074</td>\n",
       "    </tr>\n",
       "    <tr>\n",
       "      <th>recroom</th>\n",
       "      <td>0.254960</td>\n",
       "      <td>0.140327</td>\n",
       "      <td>0.080492</td>\n",
       "      <td>0.126892</td>\n",
       "      <td>0.091959</td>\n",
       "      <td>1.000000</td>\n",
       "      <td>0.372434</td>\n",
       "      <td>-0.010119</td>\n",
       "      <td>0.136626</td>\n",
       "      <td>0.038122</td>\n",
       "      <td>0.161292</td>\n",
       "      <td>-0.022632</td>\n",
       "      <td>-0.038733</td>\n",
       "      <td>0.006938</td>\n",
       "    </tr>\n",
       "    <tr>\n",
       "      <th>fullbase</th>\n",
       "      <td>0.186218</td>\n",
       "      <td>0.047487</td>\n",
       "      <td>0.097201</td>\n",
       "      <td>0.102791</td>\n",
       "      <td>0.043428</td>\n",
       "      <td>0.372434</td>\n",
       "      <td>1.000000</td>\n",
       "      <td>0.004677</td>\n",
       "      <td>0.045248</td>\n",
       "      <td>0.052524</td>\n",
       "      <td>0.228651</td>\n",
       "      <td>0.059154</td>\n",
       "      <td>-0.132540</td>\n",
       "      <td>0.098694</td>\n",
       "    </tr>\n",
       "    <tr>\n",
       "      <th>gashw</th>\n",
       "      <td>0.092837</td>\n",
       "      <td>-0.009201</td>\n",
       "      <td>0.046028</td>\n",
       "      <td>0.067365</td>\n",
       "      <td>-0.011942</td>\n",
       "      <td>-0.010119</td>\n",
       "      <td>0.004677</td>\n",
       "      <td>1.000000</td>\n",
       "      <td>-0.130350</td>\n",
       "      <td>0.068144</td>\n",
       "      <td>-0.059170</td>\n",
       "      <td>-0.060336</td>\n",
       "      <td>0.072922</td>\n",
       "      <td>0.054823</td>\n",
       "    </tr>\n",
       "    <tr>\n",
       "      <th>airco</th>\n",
       "      <td>0.453347</td>\n",
       "      <td>0.221765</td>\n",
       "      <td>0.160412</td>\n",
       "      <td>0.184955</td>\n",
       "      <td>0.106290</td>\n",
       "      <td>0.136626</td>\n",
       "      <td>0.045248</td>\n",
       "      <td>-0.130350</td>\n",
       "      <td>1.000000</td>\n",
       "      <td>0.156596</td>\n",
       "      <td>0.115626</td>\n",
       "      <td>-0.143174</td>\n",
       "      <td>0.110682</td>\n",
       "      <td>-0.074706</td>\n",
       "    </tr>\n",
       "    <tr>\n",
       "      <th>garagepl</th>\n",
       "      <td>0.383302</td>\n",
       "      <td>0.352872</td>\n",
       "      <td>0.139117</td>\n",
       "      <td>0.178178</td>\n",
       "      <td>0.203682</td>\n",
       "      <td>0.038122</td>\n",
       "      <td>0.052524</td>\n",
       "      <td>0.068144</td>\n",
       "      <td>0.156596</td>\n",
       "      <td>1.000000</td>\n",
       "      <td>0.092364</td>\n",
       "      <td>0.016610</td>\n",
       "      <td>-0.079170</td>\n",
       "      <td>-0.041931</td>\n",
       "    </tr>\n",
       "    <tr>\n",
       "      <th>prefarea</th>\n",
       "      <td>0.329074</td>\n",
       "      <td>0.234782</td>\n",
       "      <td>0.078953</td>\n",
       "      <td>0.064013</td>\n",
       "      <td>0.199378</td>\n",
       "      <td>0.161292</td>\n",
       "      <td>0.228651</td>\n",
       "      <td>-0.059170</td>\n",
       "      <td>0.115626</td>\n",
       "      <td>0.092364</td>\n",
       "      <td>1.000000</td>\n",
       "      <td>-0.010668</td>\n",
       "      <td>0.143067</td>\n",
       "      <td>-0.059240</td>\n",
       "    </tr>\n",
       "    <tr>\n",
       "      <th>one</th>\n",
       "      <td>-0.270058</td>\n",
       "      <td>0.054348</td>\n",
       "      <td>-0.509974</td>\n",
       "      <td>-0.250784</td>\n",
       "      <td>-0.053249</td>\n",
       "      <td>-0.022632</td>\n",
       "      <td>0.059154</td>\n",
       "      <td>-0.060336</td>\n",
       "      <td>-0.143174</td>\n",
       "      <td>0.016610</td>\n",
       "      <td>-0.010668</td>\n",
       "      <td>1.000000</td>\n",
       "      <td>-0.237177</td>\n",
       "      <td>-0.741533</td>\n",
       "    </tr>\n",
       "    <tr>\n",
       "      <th>three</th>\n",
       "      <td>0.138254</td>\n",
       "      <td>0.020567</td>\n",
       "      <td>0.099150</td>\n",
       "      <td>0.036027</td>\n",
       "      <td>0.073533</td>\n",
       "      <td>-0.038733</td>\n",
       "      <td>-0.132540</td>\n",
       "      <td>0.072922</td>\n",
       "      <td>0.110682</td>\n",
       "      <td>-0.079170</td>\n",
       "      <td>0.143067</td>\n",
       "      <td>-0.237177</td>\n",
       "      <td>1.000000</td>\n",
       "      <td>-0.247154</td>\n",
       "    </tr>\n",
       "    <tr>\n",
       "      <th>two</th>\n",
       "      <td>-0.002089</td>\n",
       "      <td>-0.159612</td>\n",
       "      <td>0.377424</td>\n",
       "      <td>0.080982</td>\n",
       "      <td>-0.047074</td>\n",
       "      <td>0.006938</td>\n",
       "      <td>0.098694</td>\n",
       "      <td>0.054823</td>\n",
       "      <td>-0.074706</td>\n",
       "      <td>-0.041931</td>\n",
       "      <td>-0.059240</td>\n",
       "      <td>-0.741533</td>\n",
       "      <td>-0.247154</td>\n",
       "      <td>1.000000</td>\n",
       "    </tr>\n",
       "  </tbody>\n",
       "</table>\n",
       "</div>"
      ],
      "text/plain": [
       "             price   lotsize  bedrooms   bathrms  driveway   recroom  \\\n",
       "price     1.000000  0.535796  0.366447  0.516719  0.297167  0.254960   \n",
       "lotsize   0.535796  1.000000  0.151851  0.193833  0.288778  0.140327   \n",
       "bedrooms  0.366447  0.151851  1.000000  0.373769 -0.011996  0.080492   \n",
       "bathrms   0.516719  0.193833  0.373769  1.000000  0.041955  0.126892   \n",
       "driveway  0.297167  0.288778 -0.011996  0.041955  1.000000  0.091959   \n",
       "recroom   0.254960  0.140327  0.080492  0.126892  0.091959  1.000000   \n",
       "fullbase  0.186218  0.047487  0.097201  0.102791  0.043428  0.372434   \n",
       "gashw     0.092837 -0.009201  0.046028  0.067365 -0.011942 -0.010119   \n",
       "airco     0.453347  0.221765  0.160412  0.184955  0.106290  0.136626   \n",
       "garagepl  0.383302  0.352872  0.139117  0.178178  0.203682  0.038122   \n",
       "prefarea  0.329074  0.234782  0.078953  0.064013  0.199378  0.161292   \n",
       "one      -0.270058  0.054348 -0.509974 -0.250784 -0.053249 -0.022632   \n",
       "three     0.138254  0.020567  0.099150  0.036027  0.073533 -0.038733   \n",
       "two      -0.002089 -0.159612  0.377424  0.080982 -0.047074  0.006938   \n",
       "\n",
       "          fullbase     gashw     airco  garagepl  prefarea       one  \\\n",
       "price     0.186218  0.092837  0.453347  0.383302  0.329074 -0.270058   \n",
       "lotsize   0.047487 -0.009201  0.221765  0.352872  0.234782  0.054348   \n",
       "bedrooms  0.097201  0.046028  0.160412  0.139117  0.078953 -0.509974   \n",
       "bathrms   0.102791  0.067365  0.184955  0.178178  0.064013 -0.250784   \n",
       "driveway  0.043428 -0.011942  0.106290  0.203682  0.199378 -0.053249   \n",
       "recroom   0.372434 -0.010119  0.136626  0.038122  0.161292 -0.022632   \n",
       "fullbase  1.000000  0.004677  0.045248  0.052524  0.228651  0.059154   \n",
       "gashw     0.004677  1.000000 -0.130350  0.068144 -0.059170 -0.060336   \n",
       "airco     0.045248 -0.130350  1.000000  0.156596  0.115626 -0.143174   \n",
       "garagepl  0.052524  0.068144  0.156596  1.000000  0.092364  0.016610   \n",
       "prefarea  0.228651 -0.059170  0.115626  0.092364  1.000000 -0.010668   \n",
       "one       0.059154 -0.060336 -0.143174  0.016610 -0.010668  1.000000   \n",
       "three    -0.132540  0.072922  0.110682 -0.079170  0.143067 -0.237177   \n",
       "two       0.098694  0.054823 -0.074706 -0.041931 -0.059240 -0.741533   \n",
       "\n",
       "             three       two  \n",
       "price     0.138254 -0.002089  \n",
       "lotsize   0.020567 -0.159612  \n",
       "bedrooms  0.099150  0.377424  \n",
       "bathrms   0.036027  0.080982  \n",
       "driveway  0.073533 -0.047074  \n",
       "recroom  -0.038733  0.006938  \n",
       "fullbase -0.132540  0.098694  \n",
       "gashw     0.072922  0.054823  \n",
       "airco     0.110682 -0.074706  \n",
       "garagepl -0.079170 -0.041931  \n",
       "prefarea  0.143067 -0.059240  \n",
       "one      -0.237177 -0.741533  \n",
       "three     1.000000 -0.247154  \n",
       "two      -0.247154  1.000000  "
      ]
     },
     "execution_count": 51,
     "metadata": {},
     "output_type": "execute_result"
    }
   ],
   "source": [
    "house_data.corr()"
   ]
  },
  {
   "cell_type": "code",
   "execution_count": 59,
   "metadata": {},
   "outputs": [
    {
     "data": {
      "text/plain": [
       "<matplotlib.axes._subplots.AxesSubplot at 0x1ee67670f60>"
      ]
     },
     "execution_count": 59,
     "metadata": {},
     "output_type": "execute_result"
    },
    {
     "data": {
      "image/png": "[encoded data removed]",
      "text/plain": [
       "<Figure size 432x288 with 2 Axes>"
      ]
     },
     "metadata": {},
     "output_type": "display_data"
    }
   ],
   "source": [
    "corr = house_data.corr()\n",
    "sns.heatmap(corr, xticklabels=corr.columns.values, yticklabels = corr.columns.values,annot=True,fmt='.1f')"
   ]
  },
  {
   "cell_type": "code",
   "execution_count": 60,
   "metadata": {},
   "outputs": [
    {
     "data": {
      "text/plain": [
       "Index(['price', 'lotsize', 'bedrooms', 'bathrms', 'driveway', 'recroom',\n",
       "       'fullbase', 'gashw', 'airco', 'garagepl', 'prefarea', 'one', 'three',\n",
       "       'two'],\n",
       "      dtype='object')"
      ]
     },
     "execution_count": 60,
     "metadata": {},
     "output_type": "execute_result"
    }
   ],
   "source": [
    "house_data.columns\n"
   ]
  },
  {
   "cell_type": "code",
   "execution_count": 61,
   "metadata": {},
   "outputs": [
    {
     "data": {
      "text/plain": [
       "(546, 14)"
      ]
     },
     "execution_count": 61,
     "metadata": {},
     "output_type": "execute_result"
    }
   ],
   "source": [
    "house_data.shape"
   ]
  },
  {
   "cell_type": "code",
   "execution_count": 62,
   "metadata": {},
   "outputs": [],
   "source": [
    "independent_variables = ['lotsize', 'bedrooms', 'bathrms', 'driveway', 'recroom',\n",
    "       'fullbase', 'gashw', 'airco', 'garagepl', 'prefarea', 'one', 'three',\n",
    "       'two']"
   ]
  },
  {
   "cell_type": "code",
   "execution_count": 64,
   "metadata": {},
   "outputs": [
    {
     "name": "stdout",
     "output_type": "stream",
     "text": [
      "[8.958098087844336, 18.469878559519948, 8.984672347290864, 7.08857854209188, 1.477015281503392, 2.013320236472385, 1.1034879198994192, 1.756746206560902, 1.9826489313438442, 1.5332946465459893, 3.9657526747868594, 1.7700402770614867, 5.511702408354892]\n",
      "Dropping cause of strong multicollinearity  bedrooms\n"
     ]
    }
   ],
   "source": [
    "for i in np.arange(len(independent_variables)):\n",
    "    vif = [variance_inflation_factor(house_data[independent_variables].values, ix) for ix in range(len(independent_variables))]\n",
    "    maxloc = vif.index(max(vif))\n",
    "    if max(vif) >= 10:\n",
    "        print(vif)\n",
    "        print('Dropping cause of strong multicollinearity ', independent_variables[maxloc])\n",
    "        independent_variables.remove(independent_variables[maxloc])\n",
    "    else:\n",
    "        break"
   ]
  },
  {
   "cell_type": "code",
   "execution_count": 65,
   "metadata": {},
   "outputs": [
    {
     "data": {
      "text/plain": [
       "['lotsize',\n",
       " 'bathrms',\n",
       " 'driveway',\n",
       " 'recroom',\n",
       " 'fullbase',\n",
       " 'gashw',\n",
       " 'airco',\n",
       " 'garagepl',\n",
       " 'prefarea',\n",
       " 'one',\n",
       " 'three',\n",
       " 'two']"
      ]
     },
     "execution_count": 65,
     "metadata": {},
     "output_type": "execute_result"
    }
   ],
   "source": [
    "independent_variables"
   ]
  },
  {
   "cell_type": "code",
   "execution_count": 66,
   "metadata": {},
   "outputs": [
    {
     "name": "stderr",
     "output_type": "stream",
     "text": [
      "C:\\Users\\Michael\\Anaconda3.2\\lib\\site-packages\\sklearn\\model_selection\\_split.py:2069: FutureWarning: From version 0.21, test_size will always complement train_size unless both are specified.\n",
      "  FutureWarning)\n"
     ]
    }
   ],
   "source": [
    "x_train, x_test, y_train, y_test = train_test_split(house_data[independent_variables], house_data['price'],\n",
    "                                                    train_size=.8, random_state=2)"
   ]
  },
  {
   "cell_type": "code",
   "execution_count": 67,
   "metadata": {},
   "outputs": [
    {
     "ename": "AttributeError",
     "evalue": "module 'statsmodels' has no attribute 'OLS'",
     "output_type": "error",
     "traceback": [
      "\u001b[1;31m---------------------------------------------------------------------------\u001b[0m",
      "\u001b[1;31mAttributeError\u001b[0m                            Traceback (most recent call last)",
      "\u001b[1;32m<ipython-input-67-e6da05d4b299>\u001b[0m in \u001b[0;36m<module>\u001b[1;34m()\u001b[0m\n\u001b[1;32m----> 1\u001b[1;33m \u001b[0mlm\u001b[0m \u001b[1;33m=\u001b[0m \u001b[0msm\u001b[0m\u001b[1;33m.\u001b[0m\u001b[0mOLS\u001b[0m\u001b[1;33m(\u001b[0m\u001b[0mx_train\u001b[0m\u001b[1;33m,\u001b[0m \u001b[0my_train\u001b[0m\u001b[1;33m)\u001b[0m\u001b[1;33m.\u001b[0m\u001b[0mfit\u001b[0m\u001b[1;33m(\u001b[0m\u001b[1;33m)\u001b[0m\u001b[1;33m\u001b[0m\u001b[0m\n\u001b[0m",
      "\u001b[1;31mAttributeError\u001b[0m: module 'statsmodels' has no attribute 'OLS'"
     ]
    }
   ],
   "source": [
    "lm = sm.regression.linear_model.OLS(x_train, y_train).fit()\n"
   ]
  },
  {
   "cell_type": "code",
   "execution_count": null,
   "metadata": {},
   "outputs": [],
   "source": []
  }
 ],
 "metadata": {
  "kernelspec": {
   "display_name": "Python 3",
   "language": "python",
   "name": "python3"
  },
  "language_info": {
   "codemirror_mode": {
    "name": "ipython",
    "version": 3
   },
   "file_extension": ".py",
   "mimetype": "text/x-python",
   "name": "python",
   "nbconvert_exporter": "python",
   "pygments_lexer": "ipython3",
   "version": "3.6.5"
  }
 },
 "nbformat": 4,
 "nbformat_minor": 2
}
